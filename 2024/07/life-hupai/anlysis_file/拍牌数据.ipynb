{
 "cells": [
  {
   "cell_type": "code",
   "execution_count": 1,
   "metadata": {},
   "outputs": [],
   "source": [
    "import pandas as pd"
   ]
  },
  {
   "cell_type": "code",
   "execution_count": 2,
   "metadata": {},
   "outputs": [
    {
     "data": {
      "text/html": [
       "<div>\n",
       "<style scoped>\n",
       "    .dataframe tbody tr th:only-of-type {\n",
       "        vertical-align: middle;\n",
       "    }\n",
       "\n",
       "    .dataframe tbody tr th {\n",
       "        vertical-align: top;\n",
       "    }\n",
       "\n",
       "    .dataframe thead th {\n",
       "        text-align: right;\n",
       "    }\n",
       "</style>\n",
       "<table border=\"1\" class=\"dataframe\">\n",
       "  <thead>\n",
       "    <tr style=\"text-align: right;\">\n",
       "      <th></th>\n",
       "      <th>拍卖时间</th>\n",
       "      <th>投放数量</th>\n",
       "      <th>最低成交价</th>\n",
       "      <th>平均成交价</th>\n",
       "      <th>最低成交价截止时间</th>\n",
       "      <th>位数</th>\n",
       "      <th>投标人数</th>\n",
       "      <th>中签率</th>\n",
       "    </tr>\n",
       "  </thead>\n",
       "  <tbody>\n",
       "    <tr>\n",
       "      <th>0</th>\n",
       "      <td>45566</td>\n",
       "      <td>4147</td>\n",
       "      <td>93800</td>\n",
       "      <td>93894</td>\n",
       "      <td>11:29:59</td>\n",
       "      <td>第231位</td>\n",
       "      <td>42157</td>\n",
       "      <td>0.098370</td>\n",
       "    </tr>\n",
       "    <tr>\n",
       "      <th>1</th>\n",
       "      <td>45536</td>\n",
       "      <td>4260</td>\n",
       "      <td>93100</td>\n",
       "      <td>93255</td>\n",
       "      <td>11:29:56</td>\n",
       "      <td>第55位</td>\n",
       "      <td>41171</td>\n",
       "      <td>0.103471</td>\n",
       "    </tr>\n",
       "    <tr>\n",
       "      <th>2</th>\n",
       "      <td>45505</td>\n",
       "      <td>4248</td>\n",
       "      <td>93900</td>\n",
       "      <td>93959</td>\n",
       "      <td>11:29:57</td>\n",
       "      <td>第1705位</td>\n",
       "      <td>41036</td>\n",
       "      <td>0.103519</td>\n",
       "    </tr>\n",
       "    <tr>\n",
       "      <th>3</th>\n",
       "      <td>45474</td>\n",
       "      <td>5074</td>\n",
       "      <td>93600</td>\n",
       "      <td>93716</td>\n",
       "      <td>11:29:57</td>\n",
       "      <td>第129位</td>\n",
       "      <td>38145</td>\n",
       "      <td>0.133019</td>\n",
       "    </tr>\n",
       "    <tr>\n",
       "      <th>4</th>\n",
       "      <td>45444</td>\n",
       "      <td>6271</td>\n",
       "      <td>93700</td>\n",
       "      <td>93747</td>\n",
       "      <td>11:29:59</td>\n",
       "      <td>第3267位</td>\n",
       "      <td>40720</td>\n",
       "      <td>0.154003</td>\n",
       "    </tr>\n",
       "  </tbody>\n",
       "</table>\n",
       "</div>"
      ],
      "text/plain": [
       "    拍卖时间  投放数量  最低成交价  平均成交价 最低成交价截止时间      位数   投标人数       中签率\n",
       "0  45566  4147  93800  93894  11:29:59   第231位  42157  0.098370\n",
       "1  45536  4260  93100  93255  11:29:56    第55位  41171  0.103471\n",
       "2  45505  4248  93900  93959  11:29:57  第1705位  41036  0.103519\n",
       "3  45474  5074  93600  93716  11:29:57   第129位  38145  0.133019\n",
       "4  45444  6271  93700  93747  11:29:59  第3267位  40720  0.154003"
      ]
     },
     "execution_count": 2,
     "metadata": {},
     "output_type": "execute_result"
    }
   ],
   "source": [
    "data = pd.read_excel(\"拍牌数据.xlsx\")\n",
    "data.head()"
   ]
  },
  {
   "cell_type": "code",
   "execution_count": 17,
   "metadata": {},
   "outputs": [],
   "source": [
    "df_all = data.copy()\n",
    "\n",
    "df_all['date_column'] = pd.to_datetime(df_all['拍卖时间'].astype(int),  unit='D', origin=pd.Timestamp('1899-12-30'))\n",
    "df_all['y_m'] = df_all['date_column'].dt.strftime('%Y-%m')\n",
    "\n",
    "\n",
    "target_time_td = pd.to_timedelta('11:30:00')\n",
    "df_all['seconds_diff'] = (+ target_time_td - pd.to_timedelta(df_all['最低成交价截止时间'].astype(str))).dt.total_seconds()\n",
    "\n",
    "df_all.head()\n",
    "\n",
    "\n",
    "# 环比情况\n",
    "\n",
    "# 计算前一个月的值\n",
    "df_all['Previous_投标人数'] = df_all['投标人数'].shift(-1)\n",
    "df_all['Previous_中签率'] = df_all['中签率'].shift(-1)\n",
    "df_all['Previous_最低成交价'] = df_all['最低成交价'].shift(-1)\n",
    "df_all['Previous_平均成交价'] = df_all['平均成交价'].shift(-1)\n",
    "\n",
    "\n",
    "df_all['投标人数_MoM'] = (df_all['投标人数'] - df_all['Previous_投标人数']) / df_all['Previous_投标人数'] \n",
    "df_all['中签率_MoM'] = (df_all['中签率'] - df_all['Previous_中签率']) / df_all['Previous_中签率']\n",
    "df_all['最低成交价_MoM'] = (df_all['最低成交价'] - df_all['Previous_最低成交价']) / df_all['Previous_最低成交价']\n",
    "df_all['平均成交价_MoM'] = (df_all['平均成交价'] - df_all['Previous_平均成交价']) / df_all['Previous_平均成交价']\n",
    "\n",
    "# 去掉第一个值为空的行\n",
    "df_MoM = df_all.dropna(subset=['投标人数_MoM'])\n"
   ]
  },
  {
   "cell_type": "code",
   "execution_count": 4,
   "metadata": {},
   "outputs": [],
   "source": [
    "import matplotlib.pyplot as plt\n",
    "\n",
    "import plotly.graph_objects as go\n",
    "from plotly.subplots import make_subplots"
   ]
  },
  {
   "cell_type": "code",
   "execution_count": 6,
   "metadata": {},
   "outputs": [
    {
     "data": {
      "application/vnd.plotly.v1+json": {
       "config": {
        "plotlyServerURL": "https://plot.ly"
       },
       "data": [
        {
         "mode": "lines+markers",
         "name": "最低成交价",
         "type": "scatter",
         "x": [
          "2024-09",
          "2024-08",
          "2024-07",
          "2024-06",
          "2024-05",
          "2024-04",
          "2024-03",
          "2024-02",
          "2024-01",
          "2023-12",
          "2023-11",
          "2023-10",
          "2023-09",
          "2023-08",
          "2023-07",
          "2023-06",
          "2023-05",
          "2023-04",
          "2023-03",
          "2023-02",
          "2023-01",
          "2022-12",
          "2022-11",
          "2022-10",
          "2022-09",
          "2022-08",
          "2022-07",
          "2022-06",
          "2022-05",
          "2022-04",
          "2022-03",
          "2022-02",
          "2022-01",
          "2021-12",
          "2021-11",
          "2021-10",
          "2021-09",
          "2021-08",
          "2021-07",
          "2021-06",
          "2021-05",
          "2021-04",
          "2021-03",
          "2021-02",
          "2021-01",
          "2020-12",
          "2020-11",
          "2020-10",
          "2020-09",
          "2020-08",
          "2020-07",
          "2020-06",
          "2020-05",
          "2020-04",
          "2020-03",
          "2020-02",
          "2020-01",
          "2019-12",
          "2019-11",
          "2019-10",
          "2019-09",
          "2019-08",
          "2019-07",
          "2019-06",
          "2019-05",
          "2019-04",
          "2019-03",
          "2019-02",
          "2019-01",
          "2018-12",
          "2018-11",
          "2018-10",
          "2018-09",
          "2018-08",
          "2018-07",
          "2018-06",
          "2018-05",
          "2018-04",
          "2018-03",
          "2018-02",
          "2018-01",
          "2017-12",
          "2017-11",
          "2017-10",
          "2017-09",
          "2017-08",
          "2017-07",
          "2017-06",
          "2017-05",
          "2017-04",
          "2017-03",
          "2017-02",
          "2017-01",
          "2016-12",
          "2016-11",
          "2016-10",
          "2016-09",
          "2016-08",
          "2016-07",
          "2016-06",
          "2016-05",
          "2016-04",
          "2016-03",
          "2016-02",
          "2016-01",
          "2015-12",
          "2015-11",
          "2015-10",
          "2015-09",
          "2015-08",
          "2015-07",
          "2015-06",
          "2015-05",
          "2015-04",
          "2015-03",
          "2015-02",
          "2015-01",
          "2014-12",
          "2014-11",
          "2014-10",
          "2014-09",
          "2014-08",
          "2014-07",
          "2014-06",
          "2014-05",
          "2014-04",
          "2014-03",
          "2014-02",
          "2014-01",
          "2013-12",
          "2013-11",
          "2013-10",
          "2013-09",
          "2013-08",
          "2013-07",
          "2013-06",
          "2013-05",
          "2013-04",
          "2013-03",
          "2013-02",
          "2013-01"
         ],
         "y": [
          93100,
          93900,
          93600,
          93700,
          93000,
          92900,
          93400,
          92700,
          92900,
          91900,
          92500,
          92000,
          92300,
          92700,
          92300,
          92200,
          92400,
          92300,
          92300,
          92300,
          92400,
          91400,
          91600,
          91500,
          92300,
          91700,
          91700,
          91800,
          92400,
          92500,
          92700,
          92700,
          93100,
          90900,
          91400,
          91800,
          91400,
          91800,
          92400,
          91200,
          91400,
          92800,
          92500,
          91700,
          91800,
          91500,
          91300,
          90600,
          90600,
          90600,
          91000,
          90600,
          89600,
          90400,
          90100,
          90900,
          90500,
          89600,
          90100,
          89300,
          89600,
          89300,
          90000,
          89600,
          89600,
          89700,
          89300,
          89400,
          89500,
          87400,
          87300,
          88000,
          87300,
          88300,
          88300,
          87800,
          89000,
          86900,
          88100,
          87600,
          87900,
          92800,
          93100,
          93500,
          91300,
          91600,
          92200,
          89400,
          90100,
          89800,
          87800,
          88200,
          87600,
          88300,
          88600,
          88300,
          86500,
          86900,
          87200,
          84400,
          85000,
          85100,
          83100,
          83200,
          82200,
          84500,
          84600,
          85300,
          82100,
          82600,
          83100,
          80000,
          79000,
          80600,
          74600,
          76500,
          74000,
          73600,
          73500,
          74000,
          73800,
          73600,
          74600,
          73800,
          74400,
          74000,
          73800,
          73200,
          73500,
          76000,
          75500,
          82300,
          73400,
          74700,
          76300,
          77600,
          80700,
          83900,
          90800,
          83300,
          75000
         ]
        }
       ],
       "layout": {
        "shapes": [
         {
          "line": {
           "color": "gray",
           "dash": "dash",
           "width": 2
          },
          "type": "line",
          "x0": "2013-01",
          "x1": "2024-09",
          "y0": 93900,
          "y1": 93900
         }
        ],
        "template": {
         "data": {
          "bar": [
           {
            "error_x": {
             "color": "#2a3f5f"
            },
            "error_y": {
             "color": "#2a3f5f"
            },
            "marker": {
             "line": {
              "color": "#E5ECF6",
              "width": 0.5
             },
             "pattern": {
              "fillmode": "overlay",
              "size": 10,
              "solidity": 0.2
             }
            },
            "type": "bar"
           }
          ],
          "barpolar": [
           {
            "marker": {
             "line": {
              "color": "#E5ECF6",
              "width": 0.5
             },
             "pattern": {
              "fillmode": "overlay",
              "size": 10,
              "solidity": 0.2
             }
            },
            "type": "barpolar"
           }
          ],
          "carpet": [
           {
            "aaxis": {
             "endlinecolor": "#2a3f5f",
             "gridcolor": "white",
             "linecolor": "white",
             "minorgridcolor": "white",
             "startlinecolor": "#2a3f5f"
            },
            "baxis": {
             "endlinecolor": "#2a3f5f",
             "gridcolor": "white",
             "linecolor": "white",
             "minorgridcolor": "white",
             "startlinecolor": "#2a3f5f"
            },
            "type": "carpet"
           }
          ],
          "choropleth": [
           {
            "colorbar": {
             "outlinewidth": 0,
             "ticks": ""
            },
            "type": "choropleth"
           }
          ],
          "contour": [
           {
            "colorbar": {
             "outlinewidth": 0,
             "ticks": ""
            },
            "colorscale": [
             [
              0,
              "#0d0887"
             ],
             [
              0.1111111111111111,
              "#46039f"
             ],
             [
              0.2222222222222222,
              "#7201a8"
             ],
             [
              0.3333333333333333,
              "#9c179e"
             ],
             [
              0.4444444444444444,
              "#bd3786"
             ],
             [
              0.5555555555555556,
              "#d8576b"
             ],
             [
              0.6666666666666666,
              "#ed7953"
             ],
             [
              0.7777777777777778,
              "#fb9f3a"
             ],
             [
              0.8888888888888888,
              "#fdca26"
             ],
             [
              1,
              "#f0f921"
             ]
            ],
            "type": "contour"
           }
          ],
          "contourcarpet": [
           {
            "colorbar": {
             "outlinewidth": 0,
             "ticks": ""
            },
            "type": "contourcarpet"
           }
          ],
          "heatmap": [
           {
            "colorbar": {
             "outlinewidth": 0,
             "ticks": ""
            },
            "colorscale": [
             [
              0,
              "#0d0887"
             ],
             [
              0.1111111111111111,
              "#46039f"
             ],
             [
              0.2222222222222222,
              "#7201a8"
             ],
             [
              0.3333333333333333,
              "#9c179e"
             ],
             [
              0.4444444444444444,
              "#bd3786"
             ],
             [
              0.5555555555555556,
              "#d8576b"
             ],
             [
              0.6666666666666666,
              "#ed7953"
             ],
             [
              0.7777777777777778,
              "#fb9f3a"
             ],
             [
              0.8888888888888888,
              "#fdca26"
             ],
             [
              1,
              "#f0f921"
             ]
            ],
            "type": "heatmap"
           }
          ],
          "heatmapgl": [
           {
            "colorbar": {
             "outlinewidth": 0,
             "ticks": ""
            },
            "colorscale": [
             [
              0,
              "#0d0887"
             ],
             [
              0.1111111111111111,
              "#46039f"
             ],
             [
              0.2222222222222222,
              "#7201a8"
             ],
             [
              0.3333333333333333,
              "#9c179e"
             ],
             [
              0.4444444444444444,
              "#bd3786"
             ],
             [
              0.5555555555555556,
              "#d8576b"
             ],
             [
              0.6666666666666666,
              "#ed7953"
             ],
             [
              0.7777777777777778,
              "#fb9f3a"
             ],
             [
              0.8888888888888888,
              "#fdca26"
             ],
             [
              1,
              "#f0f921"
             ]
            ],
            "type": "heatmapgl"
           }
          ],
          "histogram": [
           {
            "marker": {
             "pattern": {
              "fillmode": "overlay",
              "size": 10,
              "solidity": 0.2
             }
            },
            "type": "histogram"
           }
          ],
          "histogram2d": [
           {
            "colorbar": {
             "outlinewidth": 0,
             "ticks": ""
            },
            "colorscale": [
             [
              0,
              "#0d0887"
             ],
             [
              0.1111111111111111,
              "#46039f"
             ],
             [
              0.2222222222222222,
              "#7201a8"
             ],
             [
              0.3333333333333333,
              "#9c179e"
             ],
             [
              0.4444444444444444,
              "#bd3786"
             ],
             [
              0.5555555555555556,
              "#d8576b"
             ],
             [
              0.6666666666666666,
              "#ed7953"
             ],
             [
              0.7777777777777778,
              "#fb9f3a"
             ],
             [
              0.8888888888888888,
              "#fdca26"
             ],
             [
              1,
              "#f0f921"
             ]
            ],
            "type": "histogram2d"
           }
          ],
          "histogram2dcontour": [
           {
            "colorbar": {
             "outlinewidth": 0,
             "ticks": ""
            },
            "colorscale": [
             [
              0,
              "#0d0887"
             ],
             [
              0.1111111111111111,
              "#46039f"
             ],
             [
              0.2222222222222222,
              "#7201a8"
             ],
             [
              0.3333333333333333,
              "#9c179e"
             ],
             [
              0.4444444444444444,
              "#bd3786"
             ],
             [
              0.5555555555555556,
              "#d8576b"
             ],
             [
              0.6666666666666666,
              "#ed7953"
             ],
             [
              0.7777777777777778,
              "#fb9f3a"
             ],
             [
              0.8888888888888888,
              "#fdca26"
             ],
             [
              1,
              "#f0f921"
             ]
            ],
            "type": "histogram2dcontour"
           }
          ],
          "mesh3d": [
           {
            "colorbar": {
             "outlinewidth": 0,
             "ticks": ""
            },
            "type": "mesh3d"
           }
          ],
          "parcoords": [
           {
            "line": {
             "colorbar": {
              "outlinewidth": 0,
              "ticks": ""
             }
            },
            "type": "parcoords"
           }
          ],
          "pie": [
           {
            "automargin": true,
            "type": "pie"
           }
          ],
          "scatter": [
           {
            "fillpattern": {
             "fillmode": "overlay",
             "size": 10,
             "solidity": 0.2
            },
            "type": "scatter"
           }
          ],
          "scatter3d": [
           {
            "line": {
             "colorbar": {
              "outlinewidth": 0,
              "ticks": ""
             }
            },
            "marker": {
             "colorbar": {
              "outlinewidth": 0,
              "ticks": ""
             }
            },
            "type": "scatter3d"
           }
          ],
          "scattercarpet": [
           {
            "marker": {
             "colorbar": {
              "outlinewidth": 0,
              "ticks": ""
             }
            },
            "type": "scattercarpet"
           }
          ],
          "scattergeo": [
           {
            "marker": {
             "colorbar": {
              "outlinewidth": 0,
              "ticks": ""
             }
            },
            "type": "scattergeo"
           }
          ],
          "scattergl": [
           {
            "marker": {
             "colorbar": {
              "outlinewidth": 0,
              "ticks": ""
             }
            },
            "type": "scattergl"
           }
          ],
          "scattermapbox": [
           {
            "marker": {
             "colorbar": {
              "outlinewidth": 0,
              "ticks": ""
             }
            },
            "type": "scattermapbox"
           }
          ],
          "scatterpolar": [
           {
            "marker": {
             "colorbar": {
              "outlinewidth": 0,
              "ticks": ""
             }
            },
            "type": "scatterpolar"
           }
          ],
          "scatterpolargl": [
           {
            "marker": {
             "colorbar": {
              "outlinewidth": 0,
              "ticks": ""
             }
            },
            "type": "scatterpolargl"
           }
          ],
          "scatterternary": [
           {
            "marker": {
             "colorbar": {
              "outlinewidth": 0,
              "ticks": ""
             }
            },
            "type": "scatterternary"
           }
          ],
          "surface": [
           {
            "colorbar": {
             "outlinewidth": 0,
             "ticks": ""
            },
            "colorscale": [
             [
              0,
              "#0d0887"
             ],
             [
              0.1111111111111111,
              "#46039f"
             ],
             [
              0.2222222222222222,
              "#7201a8"
             ],
             [
              0.3333333333333333,
              "#9c179e"
             ],
             [
              0.4444444444444444,
              "#bd3786"
             ],
             [
              0.5555555555555556,
              "#d8576b"
             ],
             [
              0.6666666666666666,
              "#ed7953"
             ],
             [
              0.7777777777777778,
              "#fb9f3a"
             ],
             [
              0.8888888888888888,
              "#fdca26"
             ],
             [
              1,
              "#f0f921"
             ]
            ],
            "type": "surface"
           }
          ],
          "table": [
           {
            "cells": {
             "fill": {
              "color": "#EBF0F8"
             },
             "line": {
              "color": "white"
             }
            },
            "header": {
             "fill": {
              "color": "#C8D4E3"
             },
             "line": {
              "color": "white"
             }
            },
            "type": "table"
           }
          ]
         },
         "layout": {
          "annotationdefaults": {
           "arrowcolor": "#2a3f5f",
           "arrowhead": 0,
           "arrowwidth": 1
          },
          "autotypenumbers": "strict",
          "coloraxis": {
           "colorbar": {
            "outlinewidth": 0,
            "ticks": ""
           }
          },
          "colorscale": {
           "diverging": [
            [
             0,
             "#8e0152"
            ],
            [
             0.1,
             "#c51b7d"
            ],
            [
             0.2,
             "#de77ae"
            ],
            [
             0.3,
             "#f1b6da"
            ],
            [
             0.4,
             "#fde0ef"
            ],
            [
             0.5,
             "#f7f7f7"
            ],
            [
             0.6,
             "#e6f5d0"
            ],
            [
             0.7,
             "#b8e186"
            ],
            [
             0.8,
             "#7fbc41"
            ],
            [
             0.9,
             "#4d9221"
            ],
            [
             1,
             "#276419"
            ]
           ],
           "sequential": [
            [
             0,
             "#0d0887"
            ],
            [
             0.1111111111111111,
             "#46039f"
            ],
            [
             0.2222222222222222,
             "#7201a8"
            ],
            [
             0.3333333333333333,
             "#9c179e"
            ],
            [
             0.4444444444444444,
             "#bd3786"
            ],
            [
             0.5555555555555556,
             "#d8576b"
            ],
            [
             0.6666666666666666,
             "#ed7953"
            ],
            [
             0.7777777777777778,
             "#fb9f3a"
            ],
            [
             0.8888888888888888,
             "#fdca26"
            ],
            [
             1,
             "#f0f921"
            ]
           ],
           "sequentialminus": [
            [
             0,
             "#0d0887"
            ],
            [
             0.1111111111111111,
             "#46039f"
            ],
            [
             0.2222222222222222,
             "#7201a8"
            ],
            [
             0.3333333333333333,
             "#9c179e"
            ],
            [
             0.4444444444444444,
             "#bd3786"
            ],
            [
             0.5555555555555556,
             "#d8576b"
            ],
            [
             0.6666666666666666,
             "#ed7953"
            ],
            [
             0.7777777777777778,
             "#fb9f3a"
            ],
            [
             0.8888888888888888,
             "#fdca26"
            ],
            [
             1,
             "#f0f921"
            ]
           ]
          },
          "colorway": [
           "#636efa",
           "#EF553B",
           "#00cc96",
           "#ab63fa",
           "#FFA15A",
           "#19d3f3",
           "#FF6692",
           "#B6E880",
           "#FF97FF",
           "#FECB52"
          ],
          "font": {
           "color": "#2a3f5f"
          },
          "geo": {
           "bgcolor": "white",
           "lakecolor": "white",
           "landcolor": "#E5ECF6",
           "showlakes": true,
           "showland": true,
           "subunitcolor": "white"
          },
          "hoverlabel": {
           "align": "left"
          },
          "hovermode": "closest",
          "mapbox": {
           "style": "light"
          },
          "paper_bgcolor": "white",
          "plot_bgcolor": "#E5ECF6",
          "polar": {
           "angularaxis": {
            "gridcolor": "white",
            "linecolor": "white",
            "ticks": ""
           },
           "bgcolor": "#E5ECF6",
           "radialaxis": {
            "gridcolor": "white",
            "linecolor": "white",
            "ticks": ""
           }
          },
          "scene": {
           "xaxis": {
            "backgroundcolor": "#E5ECF6",
            "gridcolor": "white",
            "gridwidth": 2,
            "linecolor": "white",
            "showbackground": true,
            "ticks": "",
            "zerolinecolor": "white"
           },
           "yaxis": {
            "backgroundcolor": "#E5ECF6",
            "gridcolor": "white",
            "gridwidth": 2,
            "linecolor": "white",
            "showbackground": true,
            "ticks": "",
            "zerolinecolor": "white"
           },
           "zaxis": {
            "backgroundcolor": "#E5ECF6",
            "gridcolor": "white",
            "gridwidth": 2,
            "linecolor": "white",
            "showbackground": true,
            "ticks": "",
            "zerolinecolor": "white"
           }
          },
          "shapedefaults": {
           "line": {
            "color": "#2a3f5f"
           }
          },
          "ternary": {
           "aaxis": {
            "gridcolor": "white",
            "linecolor": "white",
            "ticks": ""
           },
           "baxis": {
            "gridcolor": "white",
            "linecolor": "white",
            "ticks": ""
           },
           "bgcolor": "#E5ECF6",
           "caxis": {
            "gridcolor": "white",
            "linecolor": "white",
            "ticks": ""
           }
          },
          "title": {
           "x": 0.05
          },
          "xaxis": {
           "automargin": true,
           "gridcolor": "white",
           "linecolor": "white",
           "ticks": "",
           "title": {
            "standoff": 15
           },
           "zerolinecolor": "white",
           "zerolinewidth": 2
          },
          "yaxis": {
           "automargin": true,
           "gridcolor": "white",
           "linecolor": "white",
           "ticks": "",
           "title": {
            "standoff": 15
           },
           "zerolinecolor": "white",
           "zerolinewidth": 2
          }
         }
        },
        "title": {
         "text": "平均成交价"
        }
       }
      }
     },
     "metadata": {},
     "output_type": "display_data"
    }
   ],
   "source": [
    "fig = go.Figure()\n",
    "\n",
    "df_2014 = df_all.copy()[df_all['y_m']>='2013'].reset_index(drop=True)\n",
    "fig.add_trace(go.Scatter(x=df_2014['y_m'], y=df_2014['最低成交价'], name='最低成交价',\n",
    "                         fill=None, mode='lines+markers'))\n",
    "max_a = df_2014['最低成交价'].max()\n",
    "\n",
    "# fig.add_trace(go.Scatter(x=df_2014['y_m'], y=df_2014['平均成交价'], name='平均成交价',\n",
    "#                          fill='tonexty', mode='lines+markers'))  # 'tonexty' 填充到下一个 y 值\n",
    "# max_a = df_2014['平均成交价'].max()\n",
    "\n",
    "\n",
    "# 添加水平线\n",
    "fig.add_shape(\n",
    "    type=\"line\",\n",
    "    x0=df_2014['y_m'].min(), x1=df_2014['y_m'].max(),\n",
    "    y0=max_a, y1=max_a,\n",
    "    line=dict(\n",
    "        color=\"gray\",\n",
    "        width=2,\n",
    "        dash=\"dash\",\n",
    "    )\n",
    ")\n",
    "\n",
    "fig.update_layout(title_text='平均成交价')\n",
    "\n"
   ]
  },
  {
   "cell_type": "code",
   "execution_count": 23,
   "metadata": {},
   "outputs": [
    {
     "data": {
      "application/vnd.plotly.v1+json": {
       "config": {
        "plotlyServerURL": "https://plot.ly"
       },
       "data": [
        {
         "name": "投标人数",
         "type": "bar",
         "x": [
          "2024-10",
          "2024-09",
          "2024-08",
          "2024-07",
          "2024-06",
          "2024-05",
          "2024-04",
          "2024-03",
          "2024-02",
          "2024-01",
          "2023-12",
          "2023-11",
          "2023-10",
          "2023-09",
          "2023-08",
          "2023-07",
          "2023-06",
          "2023-05",
          "2023-04",
          "2023-03",
          "2023-02",
          "2023-01",
          "2022-12",
          "2022-11",
          "2022-10",
          "2022-09",
          "2022-08",
          "2022-07",
          "2022-06",
          "2022-05",
          "2022-04",
          "2022-03",
          "2022-02",
          "2022-01",
          "2021-12",
          "2021-11",
          "2021-10",
          "2021-09",
          "2021-08",
          "2021-07",
          "2021-06",
          "2021-05",
          "2021-04",
          "2021-03",
          "2021-02",
          "2021-01"
         ],
         "xaxis": "x",
         "y": [
          42157,
          41171,
          41036,
          38145,
          40720,
          43374,
          45071,
          49498,
          50962,
          59991,
          70142,
          75838,
          79135,
          91589,
          98049,
          106115,
          111648,
          113722,
          120214,
          120435,
          121708,
          123503,
          142728,
          158693,
          165106,
          178613,
          171814,
          171009,
          173868,
          170552,
          182925,
          193184,
          200779,
          201873,
          204863,
          223360,
          217837,
          235068,
          236233,
          236237,
          200119,
          215395,
          238896,
          249403,
          242366,
          233761
         ],
         "yaxis": "y"
        },
        {
         "line": {
          "color": "red"
         },
         "mode": "lines+markers",
         "name": "中签率",
         "type": "scatter",
         "x": [
          "2024-10",
          "2024-09",
          "2024-08",
          "2024-07",
          "2024-06",
          "2024-05",
          "2024-04",
          "2024-03",
          "2024-02",
          "2024-01",
          "2023-12",
          "2023-11",
          "2023-10",
          "2023-09",
          "2023-08",
          "2023-07",
          "2023-06",
          "2023-05",
          "2023-04",
          "2023-03",
          "2023-02",
          "2023-01",
          "2022-12",
          "2022-11",
          "2022-10",
          "2022-09",
          "2022-08",
          "2022-07",
          "2022-06",
          "2022-05",
          "2022-04",
          "2022-03",
          "2022-02",
          "2022-01",
          "2021-12",
          "2021-11",
          "2021-10",
          "2021-09",
          "2021-08",
          "2021-07",
          "2021-06",
          "2021-05",
          "2021-04",
          "2021-03",
          "2021-02",
          "2021-01"
         ],
         "xaxis": "x",
         "y": [
          0.09837037739877126,
          0.10347088970391781,
          0.10351886148747441,
          0.13301874426530344,
          0.15400294695481337,
          0.16364642412505187,
          0.1889241419094318,
          0.19384621600872762,
          0.2316235626545269,
          0.20808121218182726,
          0.19963787744860426,
          0.1779582794904929,
          0.17276805459025715,
          0.14811822380416861,
          0.13818600903629819,
          0.12321537954106394,
          0.11504012611063343,
          0.116195634969487,
          0.10999550801071423,
          0.10364927139120687,
          0.09362572715022842,
          0.09011117138854927,
          0.13171907404293481,
          0.11423944345371251,
          0.10564122442552057,
          0.10600012317132572,
          0.10535229957977814,
          0.10054441579098176,
          0.09025237536521959,
          0.06158825460856513,
          0.05818778187781878,
          0.059647796918999504,
          0.05673402098825076,
          0.05870027195315867,
          0.055490742593831,
          0.049883595988538684,
          0.04955081092743657,
          0.04602498000578556,
          0.04548052134968442,
          0.04655070966868018,
          0.05381797830290977,
          0.04971796002692727,
          0.047313475319804434,
          0.04310693937121847,
          0.051343835356444385,
          0.05657915563331779
         ],
         "yaxis": "y2"
        },
        {
         "line": {
          "color": "purple"
         },
         "mode": "lines+markers",
         "name": "平均成交价_MoM",
         "type": "scatter",
         "x": [
          "2024-10",
          "2024-09",
          "2024-08",
          "2024-07",
          "2024-06",
          "2024-05",
          "2024-04",
          "2024-03",
          "2024-02",
          "2024-01",
          "2023-12",
          "2023-11",
          "2023-10",
          "2023-09",
          "2023-08",
          "2023-07",
          "2023-06",
          "2023-05",
          "2023-04",
          "2023-03",
          "2023-02",
          "2023-01",
          "2022-12",
          "2022-11",
          "2022-10",
          "2022-09",
          "2022-08",
          "2022-07",
          "2022-06",
          "2022-05",
          "2022-04",
          "2022-03",
          "2022-02",
          "2022-01",
          "2021-12",
          "2021-11",
          "2021-10",
          "2021-09",
          "2021-08",
          "2021-07",
          "2021-06",
          "2021-05",
          "2021-04",
          "2021-03",
          "2021-02",
          "2021-01"
         ],
         "xaxis": "x",
         "y": [
          0.00685217950780119,
          -0.00749262976404602,
          0.0025929403730419564,
          -0.0003306772483386135,
          0.007718023412054306,
          0.0000752510158887145,
          -0.005080376910489107,
          0.007054996660993947,
          -0.0015915689859124637,
          0.009915614105585542,
          -0.005766053708522746,
          0.005974299649145675,
          -0.003356031654956642,
          -0.004118465170937867,
          0.004581392830066067,
          0.00041173666189918954,
          -0.0027553567376576225,
          0.001460849240358395,
          0.0002922552362396493,
          0.00016239038648911984,
          -0.0013730175032703764,
          0.011537367949082479,
          -0.002606865108364874,
          0.0007641003809586185,
          -0.008817865102893126,
          0.006391620117814871,
          0.0005774301091669754,
          -0.0015229641233165808,
          -0.006495401342310893,
          -0.0004969051451287092,
          -0.001908355795148248,
          -0.0011845789360327374,
          -0.0035411524841721213,
          0.023829665681546017,
          -0.005060994272222465,
          -0.0043966567995821,
          0.004580786933277941,
          -0.004570732078921307,
          -0.006293865103654118,
          0.01321426614803046,
          -0.002186628765101405,
          -0.015308923746057038,
          0.0031643519018510918,
          0.009540008068121109,
          -0.0015675516802194573,
          0.00302447972397528
         ],
         "yaxis": "y2"
        }
       ],
       "layout": {
        "template": {
         "data": {
          "bar": [
           {
            "error_x": {
             "color": "#2a3f5f"
            },
            "error_y": {
             "color": "#2a3f5f"
            },
            "marker": {
             "line": {
              "color": "#E5ECF6",
              "width": 0.5
             },
             "pattern": {
              "fillmode": "overlay",
              "size": 10,
              "solidity": 0.2
             }
            },
            "type": "bar"
           }
          ],
          "barpolar": [
           {
            "marker": {
             "line": {
              "color": "#E5ECF6",
              "width": 0.5
             },
             "pattern": {
              "fillmode": "overlay",
              "size": 10,
              "solidity": 0.2
             }
            },
            "type": "barpolar"
           }
          ],
          "carpet": [
           {
            "aaxis": {
             "endlinecolor": "#2a3f5f",
             "gridcolor": "white",
             "linecolor": "white",
             "minorgridcolor": "white",
             "startlinecolor": "#2a3f5f"
            },
            "baxis": {
             "endlinecolor": "#2a3f5f",
             "gridcolor": "white",
             "linecolor": "white",
             "minorgridcolor": "white",
             "startlinecolor": "#2a3f5f"
            },
            "type": "carpet"
           }
          ],
          "choropleth": [
           {
            "colorbar": {
             "outlinewidth": 0,
             "ticks": ""
            },
            "type": "choropleth"
           }
          ],
          "contour": [
           {
            "colorbar": {
             "outlinewidth": 0,
             "ticks": ""
            },
            "colorscale": [
             [
              0,
              "#0d0887"
             ],
             [
              0.1111111111111111,
              "#46039f"
             ],
             [
              0.2222222222222222,
              "#7201a8"
             ],
             [
              0.3333333333333333,
              "#9c179e"
             ],
             [
              0.4444444444444444,
              "#bd3786"
             ],
             [
              0.5555555555555556,
              "#d8576b"
             ],
             [
              0.6666666666666666,
              "#ed7953"
             ],
             [
              0.7777777777777778,
              "#fb9f3a"
             ],
             [
              0.8888888888888888,
              "#fdca26"
             ],
             [
              1,
              "#f0f921"
             ]
            ],
            "type": "contour"
           }
          ],
          "contourcarpet": [
           {
            "colorbar": {
             "outlinewidth": 0,
             "ticks": ""
            },
            "type": "contourcarpet"
           }
          ],
          "heatmap": [
           {
            "colorbar": {
             "outlinewidth": 0,
             "ticks": ""
            },
            "colorscale": [
             [
              0,
              "#0d0887"
             ],
             [
              0.1111111111111111,
              "#46039f"
             ],
             [
              0.2222222222222222,
              "#7201a8"
             ],
             [
              0.3333333333333333,
              "#9c179e"
             ],
             [
              0.4444444444444444,
              "#bd3786"
             ],
             [
              0.5555555555555556,
              "#d8576b"
             ],
             [
              0.6666666666666666,
              "#ed7953"
             ],
             [
              0.7777777777777778,
              "#fb9f3a"
             ],
             [
              0.8888888888888888,
              "#fdca26"
             ],
             [
              1,
              "#f0f921"
             ]
            ],
            "type": "heatmap"
           }
          ],
          "heatmapgl": [
           {
            "colorbar": {
             "outlinewidth": 0,
             "ticks": ""
            },
            "colorscale": [
             [
              0,
              "#0d0887"
             ],
             [
              0.1111111111111111,
              "#46039f"
             ],
             [
              0.2222222222222222,
              "#7201a8"
             ],
             [
              0.3333333333333333,
              "#9c179e"
             ],
             [
              0.4444444444444444,
              "#bd3786"
             ],
             [
              0.5555555555555556,
              "#d8576b"
             ],
             [
              0.6666666666666666,
              "#ed7953"
             ],
             [
              0.7777777777777778,
              "#fb9f3a"
             ],
             [
              0.8888888888888888,
              "#fdca26"
             ],
             [
              1,
              "#f0f921"
             ]
            ],
            "type": "heatmapgl"
           }
          ],
          "histogram": [
           {
            "marker": {
             "pattern": {
              "fillmode": "overlay",
              "size": 10,
              "solidity": 0.2
             }
            },
            "type": "histogram"
           }
          ],
          "histogram2d": [
           {
            "colorbar": {
             "outlinewidth": 0,
             "ticks": ""
            },
            "colorscale": [
             [
              0,
              "#0d0887"
             ],
             [
              0.1111111111111111,
              "#46039f"
             ],
             [
              0.2222222222222222,
              "#7201a8"
             ],
             [
              0.3333333333333333,
              "#9c179e"
             ],
             [
              0.4444444444444444,
              "#bd3786"
             ],
             [
              0.5555555555555556,
              "#d8576b"
             ],
             [
              0.6666666666666666,
              "#ed7953"
             ],
             [
              0.7777777777777778,
              "#fb9f3a"
             ],
             [
              0.8888888888888888,
              "#fdca26"
             ],
             [
              1,
              "#f0f921"
             ]
            ],
            "type": "histogram2d"
           }
          ],
          "histogram2dcontour": [
           {
            "colorbar": {
             "outlinewidth": 0,
             "ticks": ""
            },
            "colorscale": [
             [
              0,
              "#0d0887"
             ],
             [
              0.1111111111111111,
              "#46039f"
             ],
             [
              0.2222222222222222,
              "#7201a8"
             ],
             [
              0.3333333333333333,
              "#9c179e"
             ],
             [
              0.4444444444444444,
              "#bd3786"
             ],
             [
              0.5555555555555556,
              "#d8576b"
             ],
             [
              0.6666666666666666,
              "#ed7953"
             ],
             [
              0.7777777777777778,
              "#fb9f3a"
             ],
             [
              0.8888888888888888,
              "#fdca26"
             ],
             [
              1,
              "#f0f921"
             ]
            ],
            "type": "histogram2dcontour"
           }
          ],
          "mesh3d": [
           {
            "colorbar": {
             "outlinewidth": 0,
             "ticks": ""
            },
            "type": "mesh3d"
           }
          ],
          "parcoords": [
           {
            "line": {
             "colorbar": {
              "outlinewidth": 0,
              "ticks": ""
             }
            },
            "type": "parcoords"
           }
          ],
          "pie": [
           {
            "automargin": true,
            "type": "pie"
           }
          ],
          "scatter": [
           {
            "fillpattern": {
             "fillmode": "overlay",
             "size": 10,
             "solidity": 0.2
            },
            "type": "scatter"
           }
          ],
          "scatter3d": [
           {
            "line": {
             "colorbar": {
              "outlinewidth": 0,
              "ticks": ""
             }
            },
            "marker": {
             "colorbar": {
              "outlinewidth": 0,
              "ticks": ""
             }
            },
            "type": "scatter3d"
           }
          ],
          "scattercarpet": [
           {
            "marker": {
             "colorbar": {
              "outlinewidth": 0,
              "ticks": ""
             }
            },
            "type": "scattercarpet"
           }
          ],
          "scattergeo": [
           {
            "marker": {
             "colorbar": {
              "outlinewidth": 0,
              "ticks": ""
             }
            },
            "type": "scattergeo"
           }
          ],
          "scattergl": [
           {
            "marker": {
             "colorbar": {
              "outlinewidth": 0,
              "ticks": ""
             }
            },
            "type": "scattergl"
           }
          ],
          "scattermapbox": [
           {
            "marker": {
             "colorbar": {
              "outlinewidth": 0,
              "ticks": ""
             }
            },
            "type": "scattermapbox"
           }
          ],
          "scatterpolar": [
           {
            "marker": {
             "colorbar": {
              "outlinewidth": 0,
              "ticks": ""
             }
            },
            "type": "scatterpolar"
           }
          ],
          "scatterpolargl": [
           {
            "marker": {
             "colorbar": {
              "outlinewidth": 0,
              "ticks": ""
             }
            },
            "type": "scatterpolargl"
           }
          ],
          "scatterternary": [
           {
            "marker": {
             "colorbar": {
              "outlinewidth": 0,
              "ticks": ""
             }
            },
            "type": "scatterternary"
           }
          ],
          "surface": [
           {
            "colorbar": {
             "outlinewidth": 0,
             "ticks": ""
            },
            "colorscale": [
             [
              0,
              "#0d0887"
             ],
             [
              0.1111111111111111,
              "#46039f"
             ],
             [
              0.2222222222222222,
              "#7201a8"
             ],
             [
              0.3333333333333333,
              "#9c179e"
             ],
             [
              0.4444444444444444,
              "#bd3786"
             ],
             [
              0.5555555555555556,
              "#d8576b"
             ],
             [
              0.6666666666666666,
              "#ed7953"
             ],
             [
              0.7777777777777778,
              "#fb9f3a"
             ],
             [
              0.8888888888888888,
              "#fdca26"
             ],
             [
              1,
              "#f0f921"
             ]
            ],
            "type": "surface"
           }
          ],
          "table": [
           {
            "cells": {
             "fill": {
              "color": "#EBF0F8"
             },
             "line": {
              "color": "white"
             }
            },
            "header": {
             "fill": {
              "color": "#C8D4E3"
             },
             "line": {
              "color": "white"
             }
            },
            "type": "table"
           }
          ]
         },
         "layout": {
          "annotationdefaults": {
           "arrowcolor": "#2a3f5f",
           "arrowhead": 0,
           "arrowwidth": 1
          },
          "autotypenumbers": "strict",
          "coloraxis": {
           "colorbar": {
            "outlinewidth": 0,
            "ticks": ""
           }
          },
          "colorscale": {
           "diverging": [
            [
             0,
             "#8e0152"
            ],
            [
             0.1,
             "#c51b7d"
            ],
            [
             0.2,
             "#de77ae"
            ],
            [
             0.3,
             "#f1b6da"
            ],
            [
             0.4,
             "#fde0ef"
            ],
            [
             0.5,
             "#f7f7f7"
            ],
            [
             0.6,
             "#e6f5d0"
            ],
            [
             0.7,
             "#b8e186"
            ],
            [
             0.8,
             "#7fbc41"
            ],
            [
             0.9,
             "#4d9221"
            ],
            [
             1,
             "#276419"
            ]
           ],
           "sequential": [
            [
             0,
             "#0d0887"
            ],
            [
             0.1111111111111111,
             "#46039f"
            ],
            [
             0.2222222222222222,
             "#7201a8"
            ],
            [
             0.3333333333333333,
             "#9c179e"
            ],
            [
             0.4444444444444444,
             "#bd3786"
            ],
            [
             0.5555555555555556,
             "#d8576b"
            ],
            [
             0.6666666666666666,
             "#ed7953"
            ],
            [
             0.7777777777777778,
             "#fb9f3a"
            ],
            [
             0.8888888888888888,
             "#fdca26"
            ],
            [
             1,
             "#f0f921"
            ]
           ],
           "sequentialminus": [
            [
             0,
             "#0d0887"
            ],
            [
             0.1111111111111111,
             "#46039f"
            ],
            [
             0.2222222222222222,
             "#7201a8"
            ],
            [
             0.3333333333333333,
             "#9c179e"
            ],
            [
             0.4444444444444444,
             "#bd3786"
            ],
            [
             0.5555555555555556,
             "#d8576b"
            ],
            [
             0.6666666666666666,
             "#ed7953"
            ],
            [
             0.7777777777777778,
             "#fb9f3a"
            ],
            [
             0.8888888888888888,
             "#fdca26"
            ],
            [
             1,
             "#f0f921"
            ]
           ]
          },
          "colorway": [
           "#636efa",
           "#EF553B",
           "#00cc96",
           "#ab63fa",
           "#FFA15A",
           "#19d3f3",
           "#FF6692",
           "#B6E880",
           "#FF97FF",
           "#FECB52"
          ],
          "font": {
           "color": "#2a3f5f"
          },
          "geo": {
           "bgcolor": "white",
           "lakecolor": "white",
           "landcolor": "#E5ECF6",
           "showlakes": true,
           "showland": true,
           "subunitcolor": "white"
          },
          "hoverlabel": {
           "align": "left"
          },
          "hovermode": "closest",
          "mapbox": {
           "style": "light"
          },
          "paper_bgcolor": "white",
          "plot_bgcolor": "#E5ECF6",
          "polar": {
           "angularaxis": {
            "gridcolor": "white",
            "linecolor": "white",
            "ticks": ""
           },
           "bgcolor": "#E5ECF6",
           "radialaxis": {
            "gridcolor": "white",
            "linecolor": "white",
            "ticks": ""
           }
          },
          "scene": {
           "xaxis": {
            "backgroundcolor": "#E5ECF6",
            "gridcolor": "white",
            "gridwidth": 2,
            "linecolor": "white",
            "showbackground": true,
            "ticks": "",
            "zerolinecolor": "white"
           },
           "yaxis": {
            "backgroundcolor": "#E5ECF6",
            "gridcolor": "white",
            "gridwidth": 2,
            "linecolor": "white",
            "showbackground": true,
            "ticks": "",
            "zerolinecolor": "white"
           },
           "zaxis": {
            "backgroundcolor": "#E5ECF6",
            "gridcolor": "white",
            "gridwidth": 2,
            "linecolor": "white",
            "showbackground": true,
            "ticks": "",
            "zerolinecolor": "white"
           }
          },
          "shapedefaults": {
           "line": {
            "color": "#2a3f5f"
           }
          },
          "ternary": {
           "aaxis": {
            "gridcolor": "white",
            "linecolor": "white",
            "ticks": ""
           },
           "baxis": {
            "gridcolor": "white",
            "linecolor": "white",
            "ticks": ""
           },
           "bgcolor": "#E5ECF6",
           "caxis": {
            "gridcolor": "white",
            "linecolor": "white",
            "ticks": ""
           }
          },
          "title": {
           "x": 0.05
          },
          "xaxis": {
           "automargin": true,
           "gridcolor": "white",
           "linecolor": "white",
           "ticks": "",
           "title": {
            "standoff": 15
           },
           "zerolinecolor": "white",
           "zerolinewidth": 2
          },
          "yaxis": {
           "automargin": true,
           "gridcolor": "white",
           "linecolor": "white",
           "ticks": "",
           "title": {
            "standoff": 15
           },
           "zerolinecolor": "white",
           "zerolinewidth": 2
          }
         }
        },
        "title": {
         "text": "投标人数与中签率变化趋势"
        },
        "xaxis": {
         "anchor": "y",
         "domain": [
          0,
          0.94
         ],
         "title": {
          "text": "Month"
         }
        },
        "yaxis": {
         "anchor": "x",
         "domain": [
          0,
          1
         ],
         "title": {
          "text": "投标人数"
         }
        },
        "yaxis2": {
         "anchor": "x",
         "overlaying": "y",
         "side": "right",
         "title": {
          "text": "中签率 (%)"
         }
        }
       }
      }
     },
     "metadata": {},
     "output_type": "display_data"
    }
   ],
   "source": [
    "df = df_all[df_all['y_m']>='2021'].reset_index(drop=True)\n",
    "\n",
    "fig = make_subplots(specs=[[{\"secondary_y\": True}]])\n",
    "\n",
    "# 添加投标人数\n",
    "#fig.add_trace(go.Scatter(x=df['y_m'], y=df['投标人数'], name='投标人数',\n",
    "#                         line=dict(color='red'), mode='lines+markers'),\n",
    "#              secondary_y=False)\n",
    "fig.add_trace(go.Bar(x=df['y_m'], y=df['投标人数'], name='投标人数',\n",
    "                    ),\n",
    "              secondary_y=False)\n",
    "\n",
    "# 添加中签率\n",
    "fig.add_trace(go.Scatter(x=df['y_m'], y=df['中签率'], name='中签率',\n",
    "                         line=dict(color='red'), mode='lines+markers'),\n",
    "              secondary_y=True) # purple\n",
    "# df_all['最低成交价_MoM']\n",
    "fig.add_trace(go.Scatter(x=df['y_m'], y=df['平均成交价_MoM'], name='平均成交价_MoM',\n",
    "                         line=dict(color='purple'), mode='lines+markers'),\n",
    "              secondary_y=True) # purple\n",
    "# 添加水平线\n",
    "#min_a = 0 # df['中签率'].min()\n",
    "#fig.add_shape(\n",
    "#    type=\"line\",\n",
    "#    x0=df['y_m'].min(), x1=df['y_m'].max(),\n",
    "#    y0=min_a, y1=min_a,\n",
    "#    line=dict(\n",
    "#        color=\"gray\",\n",
    "#        width=2,\n",
    "#        dash=\"dash\",\n",
    "#    ),\n",
    "#    secondary_y=True\n",
    "#)\n",
    "\n",
    "fig.update_layout(title_text='投标人数与中签率变化趋势')\n",
    "\n",
    "fig.update_xaxes(title_text='Month')\n",
    "\n",
    "fig.update_yaxes(title_text='投标人数', secondary_y=False)\n",
    "fig.update_yaxes(title_text='中签率 (%)', secondary_y=True)\n",
    "\n",
    "fig.show()\n"
   ]
  },
  {
   "cell_type": "code",
   "execution_count": 24,
   "metadata": {},
   "outputs": [
    {
     "data": {
      "text/html": [
       "<div>\n",
       "<style scoped>\n",
       "    .dataframe tbody tr th:only-of-type {\n",
       "        vertical-align: middle;\n",
       "    }\n",
       "\n",
       "    .dataframe tbody tr th {\n",
       "        vertical-align: top;\n",
       "    }\n",
       "\n",
       "    .dataframe thead th {\n",
       "        text-align: right;\n",
       "    }\n",
       "</style>\n",
       "<table border=\"1\" class=\"dataframe\">\n",
       "  <thead>\n",
       "    <tr style=\"text-align: right;\">\n",
       "      <th></th>\n",
       "      <th>拍卖时间</th>\n",
       "      <th>投放数量</th>\n",
       "      <th>最低成交价</th>\n",
       "      <th>平均成交价</th>\n",
       "      <th>最低成交价截止时间</th>\n",
       "      <th>位数</th>\n",
       "      <th>投标人数</th>\n",
       "      <th>中签率</th>\n",
       "      <th>date_column</th>\n",
       "      <th>y_m</th>\n",
       "      <th>seconds_diff</th>\n",
       "      <th>Previous_投标人数</th>\n",
       "      <th>Previous_中签率</th>\n",
       "      <th>投标人数_MoM</th>\n",
       "      <th>中签率_MoM</th>\n",
       "    </tr>\n",
       "  </thead>\n",
       "  <tbody>\n",
       "    <tr>\n",
       "      <th>1</th>\n",
       "      <td>45413</td>\n",
       "      <td>7098</td>\n",
       "      <td>93000</td>\n",
       "      <td>93029</td>\n",
       "      <td>11:29:58</td>\n",
       "      <td>第1139位</td>\n",
       "      <td>43374</td>\n",
       "      <td>0.163646</td>\n",
       "      <td>2024-05-01</td>\n",
       "      <td>2024-05</td>\n",
       "      <td>2.0</td>\n",
       "      <td>40720.0</td>\n",
       "      <td>0.154003</td>\n",
       "      <td>0.065177</td>\n",
       "      <td>0.062619</td>\n",
       "    </tr>\n",
       "    <tr>\n",
       "      <th>2</th>\n",
       "      <td>45383</td>\n",
       "      <td>8515</td>\n",
       "      <td>92900</td>\n",
       "      <td>93022</td>\n",
       "      <td>11:29:58</td>\n",
       "      <td>第194位</td>\n",
       "      <td>45071</td>\n",
       "      <td>0.188924</td>\n",
       "      <td>2024-04-01</td>\n",
       "      <td>2024-04</td>\n",
       "      <td>2.0</td>\n",
       "      <td>43374.0</td>\n",
       "      <td>0.163646</td>\n",
       "      <td>0.039125</td>\n",
       "      <td>0.154465</td>\n",
       "    </tr>\n",
       "    <tr>\n",
       "      <th>3</th>\n",
       "      <td>45352</td>\n",
       "      <td>9595</td>\n",
       "      <td>93400</td>\n",
       "      <td>93497</td>\n",
       "      <td>11:29:57</td>\n",
       "      <td>第3063位</td>\n",
       "      <td>49498</td>\n",
       "      <td>0.193846</td>\n",
       "      <td>2024-03-01</td>\n",
       "      <td>2024-03</td>\n",
       "      <td>3.0</td>\n",
       "      <td>45071.0</td>\n",
       "      <td>0.188924</td>\n",
       "      <td>0.098223</td>\n",
       "      <td>0.026053</td>\n",
       "    </tr>\n",
       "    <tr>\n",
       "      <th>4</th>\n",
       "      <td>45323</td>\n",
       "      <td>11804</td>\n",
       "      <td>92700</td>\n",
       "      <td>92842</td>\n",
       "      <td>11:29:47</td>\n",
       "      <td>第1947位</td>\n",
       "      <td>50962</td>\n",
       "      <td>0.231624</td>\n",
       "      <td>2024-02-01</td>\n",
       "      <td>2024-02</td>\n",
       "      <td>13.0</td>\n",
       "      <td>49498.0</td>\n",
       "      <td>0.193846</td>\n",
       "      <td>0.029577</td>\n",
       "      <td>0.194883</td>\n",
       "    </tr>\n",
       "    <tr>\n",
       "      <th>5</th>\n",
       "      <td>45292</td>\n",
       "      <td>12483</td>\n",
       "      <td>92900</td>\n",
       "      <td>92990</td>\n",
       "      <td>11:29:57</td>\n",
       "      <td>第1957位</td>\n",
       "      <td>59991</td>\n",
       "      <td>0.208081</td>\n",
       "      <td>2024-01-01</td>\n",
       "      <td>2024-01</td>\n",
       "      <td>3.0</td>\n",
       "      <td>50962.0</td>\n",
       "      <td>0.231624</td>\n",
       "      <td>0.177171</td>\n",
       "      <td>-0.101641</td>\n",
       "    </tr>\n",
       "  </tbody>\n",
       "</table>\n",
       "</div>"
      ],
      "text/plain": [
       "    拍卖时间   投放数量  最低成交价  平均成交价 最低成交价截止时间      位数   投标人数       中签率 date_column  \\\n",
       "1  45413   7098  93000  93029  11:29:58  第1139位  43374  0.163646  2024-05-01   \n",
       "2  45383   8515  92900  93022  11:29:58   第194位  45071  0.188924  2024-04-01   \n",
       "3  45352   9595  93400  93497  11:29:57  第3063位  49498  0.193846  2024-03-01   \n",
       "4  45323  11804  92700  92842  11:29:47  第1947位  50962  0.231624  2024-02-01   \n",
       "5  45292  12483  92900  92990  11:29:57  第1957位  59991  0.208081  2024-01-01   \n",
       "\n",
       "       y_m  seconds_diff  Previous_投标人数  Previous_中签率  投标人数_MoM   中签率_MoM  \n",
       "1  2024-05           2.0        40720.0      0.154003  0.065177  0.062619  \n",
       "2  2024-04           2.0        43374.0      0.163646  0.039125  0.154465  \n",
       "3  2024-03           3.0        45071.0      0.188924  0.098223  0.026053  \n",
       "4  2024-02          13.0        49498.0      0.193846  0.029577  0.194883  \n",
       "5  2024-01           3.0        50962.0      0.231624  0.177171 -0.101641  "
      ]
     },
     "execution_count": 24,
     "metadata": {},
     "output_type": "execute_result"
    }
   ],
   "source": [
    "df_MoM.head()"
   ]
  },
  {
   "cell_type": "code",
   "execution_count": 8,
   "metadata": {},
   "outputs": [
    {
     "data": {
      "application/vnd.plotly.v1+json": {
       "config": {
        "plotlyServerURL": "https://plot.ly"
       },
       "data": [
        {
         "line": {
          "color": "red"
         },
         "mode": "lines+markers",
         "name": "最低成交价_MoM",
         "type": "scatter",
         "x": [
          "2024-09",
          "2024-08",
          "2024-07",
          "2024-06",
          "2024-05",
          "2024-04",
          "2024-03",
          "2024-02",
          "2024-01",
          "2023-12",
          "2023-11",
          "2023-10",
          "2023-09",
          "2023-08",
          "2023-07",
          "2023-06",
          "2023-05",
          "2023-04",
          "2023-03",
          "2023-02",
          "2023-01",
          "2022-12",
          "2022-11",
          "2022-10",
          "2022-09",
          "2022-08",
          "2022-07",
          "2022-06",
          "2022-05",
          "2022-04",
          "2022-03",
          "2022-02",
          "2022-01",
          "2021-12",
          "2021-11",
          "2021-10",
          "2021-09",
          "2021-08",
          "2021-07",
          "2021-06",
          "2021-05",
          "2021-04",
          "2021-03",
          "2021-02",
          "2021-01",
          "2020-12",
          "2020-11",
          "2020-10",
          "2020-09",
          "2020-08",
          "2020-07",
          "2020-06",
          "2020-05",
          "2020-04",
          "2020-03",
          "2020-02",
          "2020-01",
          "2019-12",
          "2019-11",
          "2019-10",
          "2019-09",
          "2019-08",
          "2019-07",
          "2019-06",
          "2019-05",
          "2019-04",
          "2019-03",
          "2019-02",
          "2019-01",
          "2018-12",
          "2018-11",
          "2018-10",
          "2018-09",
          "2018-08",
          "2018-07",
          "2018-06",
          "2018-05",
          "2018-04",
          "2018-03",
          "2018-02",
          "2018-01",
          "2017-12",
          "2017-11",
          "2017-10",
          "2017-09",
          "2017-08",
          "2017-07",
          "2017-06",
          "2017-05",
          "2017-04",
          "2017-03",
          "2017-02",
          "2017-01",
          "2016-12",
          "2016-11",
          "2016-10",
          "2016-09",
          "2016-08",
          "2016-07",
          "2016-06",
          "2016-05",
          "2016-04",
          "2016-03",
          "2016-02",
          "2016-01",
          "2015-12",
          "2015-11",
          "2015-10",
          "2015-09",
          "2015-08",
          "2015-07",
          "2015-06",
          "2015-05",
          "2015-04",
          "2015-03",
          "2015-02",
          "2015-01",
          "2014-12",
          "2014-11",
          "2014-10",
          "2014-09",
          "2014-08",
          "2014-07",
          "2014-06",
          "2014-05",
          "2014-04",
          "2014-03",
          "2014-02",
          "2014-01",
          "2013-12",
          "2013-11",
          "2013-10",
          "2013-09",
          "2013-08",
          "2013-07",
          "2013-06",
          "2013-05",
          "2013-04",
          "2013-03",
          "2013-02",
          "2013-01"
         ],
         "xaxis": "x",
         "y": [
          -0.008519701810436636,
          0.003205128205128205,
          -0.0010672358591248667,
          0.007526881720430108,
          0.001076426264800861,
          -0.0053533190578158455,
          0.007551240560949299,
          -0.002152852529601722,
          0.01088139281828074,
          -0.006486486486486486,
          0.005434782608695652,
          -0.0032502708559046588,
          -0.004314994606256742,
          0.004333694474539545,
          0.0010845986984815619,
          -0.0021645021645021645,
          0.0010834236186348862,
          0,
          0,
          -0.0010822510822510823,
          0.010940919037199124,
          -0.002183406113537118,
          0.001092896174863388,
          -0.00866738894907909,
          0.006543075245365322,
          0,
          -0.0010893246187363835,
          -0.006493506493506494,
          -0.001081081081081081,
          -0.002157497303128371,
          0,
          -0.004296455424274973,
          0.0242024202420242,
          -0.005470459518599562,
          -0.004357298474945534,
          0.00437636761487965,
          -0.004357298474945534,
          -0.006493506493506494,
          0.013157894736842105,
          -0.002188183807439825,
          -0.015086206896551725,
          0.003243243243243243,
          0.008724100327153763,
          -0.0010893246187363835,
          0.003278688524590164,
          0.002190580503833516,
          0.00772626931567329,
          0,
          0,
          -0.004395604395604396,
          0.004415011037527594,
          0.011160714285714286,
          -0.008849557522123894,
          0.003329633740288568,
          -0.0088008800880088,
          0.004419889502762431,
          0.010044642857142858,
          -0.005549389567147614,
          0.008958566629339306,
          -0.0033482142857142855,
          0.0033594624860022394,
          -0.0077777777777777776,
          0.004464285714285714,
          0,
          -0.0011148272017837235,
          0.004479283314669653,
          -0.0011185682326621924,
          -0.0011173184357541898,
          0.02402745995423341,
          0.001145475372279496,
          -0.007954545454545454,
          0.008018327605956471,
          -0.011325028312570781,
          0,
          0.0056947608200455585,
          -0.01348314606741573,
          0.024165707710011506,
          -0.01362088535754824,
          0.005707762557077625,
          -0.0034129692832764505,
          -0.052801724137931036,
          -0.00322234156820623,
          -0.0042780748663101605,
          0.024096385542168676,
          -0.0032751091703056767,
          -0.006507592190889371,
          0.03131991051454139,
          -0.00776914539400666,
          0.0033407572383073497,
          0.022779043280182234,
          -0.0045351473922902496,
          0.00684931506849315,
          -0.007927519818799546,
          -0.003386004514672686,
          0.0033975084937712344,
          0.020809248554913295,
          -0.004602991944764097,
          -0.0034403669724770644,
          0.03317535545023697,
          -0.007058823529411765,
          -0.0011750881316098707,
          0.024067388688327317,
          -0.001201923076923077,
          0.012165450121654502,
          -0.027218934911242602,
          -0.001182033096926714,
          -0.008206330597889801,
          0.0389768574908648,
          -0.006053268765133172,
          -0.006016847172081829,
          0.03875,
          0.012658227848101266,
          -0.019851116625310174,
          0.08042895442359249,
          -0.02483660130718954,
          0.033783783783783786,
          0.005434782608695652,
          0.0013605442176870747,
          -0.006756756756756757,
          0.0027100271002710027,
          0.002717391304347826,
          -0.013404825737265416,
          0.01084010840108401,
          -0.008064516129032258,
          0.005405405405405406,
          0.0027100271002710027,
          0.00819672131147541,
          -0.004081632653061225,
          -0.03289473684210526,
          0.006622516556291391,
          -0.08262454434993925,
          0.12125340599455041,
          -0.01740294511378849,
          -0.020969855832241154,
          -0.01675257731958763,
          -0.03841387856257745,
          -0.03814064362336114,
          -0.07599118942731277,
          0.09003601440576231,
          0.11066666666666666,
          0.08853410740203194
         ],
         "yaxis": "y"
        },
        {
         "line": {
          "color": "purple"
         },
         "mode": "lines+markers",
         "name": "中签率_MoM",
         "type": "scatter",
         "x": [
          "2024-09",
          "2024-08",
          "2024-07",
          "2024-06",
          "2024-05",
          "2024-04",
          "2024-03",
          "2024-02",
          "2024-01",
          "2023-12",
          "2023-11",
          "2023-10",
          "2023-09",
          "2023-08",
          "2023-07",
          "2023-06",
          "2023-05",
          "2023-04",
          "2023-03",
          "2023-02",
          "2023-01",
          "2022-12",
          "2022-11",
          "2022-10",
          "2022-09",
          "2022-08",
          "2022-07",
          "2022-06",
          "2022-05",
          "2022-04",
          "2022-03",
          "2022-02",
          "2022-01",
          "2021-12",
          "2021-11",
          "2021-10",
          "2021-09",
          "2021-08",
          "2021-07",
          "2021-06",
          "2021-05",
          "2021-04",
          "2021-03",
          "2021-02",
          "2021-01",
          "2020-12",
          "2020-11",
          "2020-10",
          "2020-09",
          "2020-08",
          "2020-07",
          "2020-06",
          "2020-05",
          "2020-04",
          "2020-03",
          "2020-02",
          "2020-01",
          "2019-12",
          "2019-11",
          "2019-10",
          "2019-09",
          "2019-08",
          "2019-07",
          "2019-06",
          "2019-05",
          "2019-04",
          "2019-03",
          "2019-02",
          "2019-01",
          "2018-12",
          "2018-11",
          "2018-10",
          "2018-09",
          "2018-08",
          "2018-07",
          "2018-06",
          "2018-05",
          "2018-04",
          "2018-03",
          "2018-02",
          "2018-01",
          "2017-12",
          "2017-11",
          "2017-10",
          "2017-09",
          "2017-08",
          "2017-07",
          "2017-06",
          "2017-05",
          "2017-04",
          "2017-03",
          "2017-02",
          "2017-01",
          "2016-12",
          "2016-11",
          "2016-10",
          "2016-09",
          "2016-08",
          "2016-07",
          "2016-06",
          "2016-05",
          "2016-04",
          "2016-03",
          "2016-02",
          "2016-01",
          "2015-12",
          "2015-11",
          "2015-10",
          "2015-09",
          "2015-08",
          "2015-07",
          "2015-06",
          "2015-05",
          "2015-04",
          "2015-03",
          "2015-02",
          "2015-01",
          "2014-12",
          "2014-11",
          "2014-10",
          "2014-09",
          "2014-08",
          "2014-07",
          "2014-06",
          "2014-05",
          "2014-04",
          "2014-03",
          "2014-02",
          "2014-01",
          "2013-12",
          "2013-11",
          "2013-10",
          "2013-09",
          "2013-08",
          "2013-07",
          "2013-06",
          "2013-05",
          "2013-04",
          "2013-03",
          "2013-02",
          "2013-01"
         ],
         "xaxis": "x",
         "y": [
          -0.00046341104285045544,
          -0.2217723745684447,
          -0.13625844897414197,
          -0.058928737500975596,
          -0.1337982405472446,
          -0.025391643956950965,
          -0.16309802946147267,
          0.11314020245195262,
          0.04229325036475956,
          0.12182404786212578,
          0.03004157749269714,
          0.1664199728635606,
          0.0718756901450238,
          0.12149968251524142,
          0.07106436429466727,
          -0.009944511763776738,
          0.05636709235588821,
          0.06122799064891197,
          0.10705972114796014,
          0.039002442289034094,
          -0.31588365585399686,
          0.15300871626098822,
          0.08139075512376209,
          -0.0033858332902601427,
          0.00614911676471775,
          0.0478185063881749,
          0.11403622767948117,
          0.4654153773123506,
          0.058439634937220666,
          -0.024477266832895743,
          0.05135853020804159,
          -0.033496454096105806,
          0.05783900537824982,
          0.11240461907719367,
          0.006716036627320797,
          0.07660689741109718,
          0.011971249228103104,
          -0.022989731555387957,
          -0.13503421836707433,
          0.08246553707678123,
          0.050820293602832654,
          0.09758373036788998,
          -0.16042619192825974,
          -0.09253090150024229,
          -0.09071558142895725,
          -0.20467334327025088,
          -0.3827325482830777,
          -0.040266543708581785,
          0.07507809158359144,
          0.03832225395463284,
          -0.1232612774228585,
          0.11477614449965352,
          0.21140267792857081,
          0.11780168702967696,
          0.4696328127880308,
          -0.06804746522806854,
          0.14740244427428045,
          0.023555041878903043,
          -0.0934777361633046,
          0.02752508884622122,
          0.04989424632496485,
          0.013535175220949526,
          -0.058046885583998974,
          0.05612764813302905,
          0.01070804275757905,
          -0.06944112863225764,
          0.08934135710392778,
          -0.27716535420165983,
          -0.02018662476803897,
          0.1707709791579119,
          0.12462107401345035,
          -0.1222854802464316,
          0.2454167721167657,
          0.05041764868384151,
          -0.00029389071300457665,
          -0.0008418390735241765,
          -0.11524383945804739,
          0.2803661165740192,
          -0.09655825942834571,
          -0.06643256135571093,
          0.011082561672237848,
          0.09808579791218294,
          0.042559059373327754,
          -0.06122652737164061,
          0.20158280992616973,
          0.07490023432645579,
          -0.09113283690748943,
          0.10535435738562024,
          -0.2102599428283229,
          0.22312958009493403,
          -0.020462043501094433,
          -0.2332806115677755,
          -0.05619940709329012,
          0.04012591758366194,
          -0.01640018463153682,
          -0.029314418230578565,
          0.221259021907588,
          -0.03537370806086342,
          0.13704774562861932,
          0.004375125709418718,
          -0.0935940466277272,
          0.2251644757990564,
          -0.11706496155722994,
          -0.15160112439006973,
          0.16751766368256615,
          -0.03255513034130084,
          -0.021569669499036943,
          -0.13766892502299669,
          0.17907262756228126,
          -0.014001156899163444,
          0.04802013834895946,
          -0.09902668332901537,
          -0.11871155457260567,
          -0.02498784779745187,
          -0.24717421692949545,
          -0.08876791103387494,
          0.059465997557414677,
          -0.007938812931233389,
          0.10394895130498454,
          0.03254308976800966,
          0.1154821108674436,
          0.11968737145207745,
          -0.0030933591970492566,
          -0.15887733366746026,
          -0.25476681682108476,
          -0.27271770449368316,
          -0.2602137325594555,
          -0.162528147273984,
          -0.09978796267469942,
          -0.03545741324921134,
          -0.35756279434850863,
          0.3521653338872157,
          -0.35569209762758147,
          -0.03704194260485661,
          -0.015084131860070538,
          0.03454054557303787,
          -0.03639799725112899,
          0.10151295178421324,
          0.045020984357115615,
          -0.15390856354711768,
          -0.1534984000111358
         ],
         "yaxis": "y2"
        }
       ],
       "layout": {
        "template": {
         "data": {
          "bar": [
           {
            "error_x": {
             "color": "#2a3f5f"
            },
            "error_y": {
             "color": "#2a3f5f"
            },
            "marker": {
             "line": {
              "color": "#E5ECF6",
              "width": 0.5
             },
             "pattern": {
              "fillmode": "overlay",
              "size": 10,
              "solidity": 0.2
             }
            },
            "type": "bar"
           }
          ],
          "barpolar": [
           {
            "marker": {
             "line": {
              "color": "#E5ECF6",
              "width": 0.5
             },
             "pattern": {
              "fillmode": "overlay",
              "size": 10,
              "solidity": 0.2
             }
            },
            "type": "barpolar"
           }
          ],
          "carpet": [
           {
            "aaxis": {
             "endlinecolor": "#2a3f5f",
             "gridcolor": "white",
             "linecolor": "white",
             "minorgridcolor": "white",
             "startlinecolor": "#2a3f5f"
            },
            "baxis": {
             "endlinecolor": "#2a3f5f",
             "gridcolor": "white",
             "linecolor": "white",
             "minorgridcolor": "white",
             "startlinecolor": "#2a3f5f"
            },
            "type": "carpet"
           }
          ],
          "choropleth": [
           {
            "colorbar": {
             "outlinewidth": 0,
             "ticks": ""
            },
            "type": "choropleth"
           }
          ],
          "contour": [
           {
            "colorbar": {
             "outlinewidth": 0,
             "ticks": ""
            },
            "colorscale": [
             [
              0,
              "#0d0887"
             ],
             [
              0.1111111111111111,
              "#46039f"
             ],
             [
              0.2222222222222222,
              "#7201a8"
             ],
             [
              0.3333333333333333,
              "#9c179e"
             ],
             [
              0.4444444444444444,
              "#bd3786"
             ],
             [
              0.5555555555555556,
              "#d8576b"
             ],
             [
              0.6666666666666666,
              "#ed7953"
             ],
             [
              0.7777777777777778,
              "#fb9f3a"
             ],
             [
              0.8888888888888888,
              "#fdca26"
             ],
             [
              1,
              "#f0f921"
             ]
            ],
            "type": "contour"
           }
          ],
          "contourcarpet": [
           {
            "colorbar": {
             "outlinewidth": 0,
             "ticks": ""
            },
            "type": "contourcarpet"
           }
          ],
          "heatmap": [
           {
            "colorbar": {
             "outlinewidth": 0,
             "ticks": ""
            },
            "colorscale": [
             [
              0,
              "#0d0887"
             ],
             [
              0.1111111111111111,
              "#46039f"
             ],
             [
              0.2222222222222222,
              "#7201a8"
             ],
             [
              0.3333333333333333,
              "#9c179e"
             ],
             [
              0.4444444444444444,
              "#bd3786"
             ],
             [
              0.5555555555555556,
              "#d8576b"
             ],
             [
              0.6666666666666666,
              "#ed7953"
             ],
             [
              0.7777777777777778,
              "#fb9f3a"
             ],
             [
              0.8888888888888888,
              "#fdca26"
             ],
             [
              1,
              "#f0f921"
             ]
            ],
            "type": "heatmap"
           }
          ],
          "heatmapgl": [
           {
            "colorbar": {
             "outlinewidth": 0,
             "ticks": ""
            },
            "colorscale": [
             [
              0,
              "#0d0887"
             ],
             [
              0.1111111111111111,
              "#46039f"
             ],
             [
              0.2222222222222222,
              "#7201a8"
             ],
             [
              0.3333333333333333,
              "#9c179e"
             ],
             [
              0.4444444444444444,
              "#bd3786"
             ],
             [
              0.5555555555555556,
              "#d8576b"
             ],
             [
              0.6666666666666666,
              "#ed7953"
             ],
             [
              0.7777777777777778,
              "#fb9f3a"
             ],
             [
              0.8888888888888888,
              "#fdca26"
             ],
             [
              1,
              "#f0f921"
             ]
            ],
            "type": "heatmapgl"
           }
          ],
          "histogram": [
           {
            "marker": {
             "pattern": {
              "fillmode": "overlay",
              "size": 10,
              "solidity": 0.2
             }
            },
            "type": "histogram"
           }
          ],
          "histogram2d": [
           {
            "colorbar": {
             "outlinewidth": 0,
             "ticks": ""
            },
            "colorscale": [
             [
              0,
              "#0d0887"
             ],
             [
              0.1111111111111111,
              "#46039f"
             ],
             [
              0.2222222222222222,
              "#7201a8"
             ],
             [
              0.3333333333333333,
              "#9c179e"
             ],
             [
              0.4444444444444444,
              "#bd3786"
             ],
             [
              0.5555555555555556,
              "#d8576b"
             ],
             [
              0.6666666666666666,
              "#ed7953"
             ],
             [
              0.7777777777777778,
              "#fb9f3a"
             ],
             [
              0.8888888888888888,
              "#fdca26"
             ],
             [
              1,
              "#f0f921"
             ]
            ],
            "type": "histogram2d"
           }
          ],
          "histogram2dcontour": [
           {
            "colorbar": {
             "outlinewidth": 0,
             "ticks": ""
            },
            "colorscale": [
             [
              0,
              "#0d0887"
             ],
             [
              0.1111111111111111,
              "#46039f"
             ],
             [
              0.2222222222222222,
              "#7201a8"
             ],
             [
              0.3333333333333333,
              "#9c179e"
             ],
             [
              0.4444444444444444,
              "#bd3786"
             ],
             [
              0.5555555555555556,
              "#d8576b"
             ],
             [
              0.6666666666666666,
              "#ed7953"
             ],
             [
              0.7777777777777778,
              "#fb9f3a"
             ],
             [
              0.8888888888888888,
              "#fdca26"
             ],
             [
              1,
              "#f0f921"
             ]
            ],
            "type": "histogram2dcontour"
           }
          ],
          "mesh3d": [
           {
            "colorbar": {
             "outlinewidth": 0,
             "ticks": ""
            },
            "type": "mesh3d"
           }
          ],
          "parcoords": [
           {
            "line": {
             "colorbar": {
              "outlinewidth": 0,
              "ticks": ""
             }
            },
            "type": "parcoords"
           }
          ],
          "pie": [
           {
            "automargin": true,
            "type": "pie"
           }
          ],
          "scatter": [
           {
            "fillpattern": {
             "fillmode": "overlay",
             "size": 10,
             "solidity": 0.2
            },
            "type": "scatter"
           }
          ],
          "scatter3d": [
           {
            "line": {
             "colorbar": {
              "outlinewidth": 0,
              "ticks": ""
             }
            },
            "marker": {
             "colorbar": {
              "outlinewidth": 0,
              "ticks": ""
             }
            },
            "type": "scatter3d"
           }
          ],
          "scattercarpet": [
           {
            "marker": {
             "colorbar": {
              "outlinewidth": 0,
              "ticks": ""
             }
            },
            "type": "scattercarpet"
           }
          ],
          "scattergeo": [
           {
            "marker": {
             "colorbar": {
              "outlinewidth": 0,
              "ticks": ""
             }
            },
            "type": "scattergeo"
           }
          ],
          "scattergl": [
           {
            "marker": {
             "colorbar": {
              "outlinewidth": 0,
              "ticks": ""
             }
            },
            "type": "scattergl"
           }
          ],
          "scattermapbox": [
           {
            "marker": {
             "colorbar": {
              "outlinewidth": 0,
              "ticks": ""
             }
            },
            "type": "scattermapbox"
           }
          ],
          "scatterpolar": [
           {
            "marker": {
             "colorbar": {
              "outlinewidth": 0,
              "ticks": ""
             }
            },
            "type": "scatterpolar"
           }
          ],
          "scatterpolargl": [
           {
            "marker": {
             "colorbar": {
              "outlinewidth": 0,
              "ticks": ""
             }
            },
            "type": "scatterpolargl"
           }
          ],
          "scatterternary": [
           {
            "marker": {
             "colorbar": {
              "outlinewidth": 0,
              "ticks": ""
             }
            },
            "type": "scatterternary"
           }
          ],
          "surface": [
           {
            "colorbar": {
             "outlinewidth": 0,
             "ticks": ""
            },
            "colorscale": [
             [
              0,
              "#0d0887"
             ],
             [
              0.1111111111111111,
              "#46039f"
             ],
             [
              0.2222222222222222,
              "#7201a8"
             ],
             [
              0.3333333333333333,
              "#9c179e"
             ],
             [
              0.4444444444444444,
              "#bd3786"
             ],
             [
              0.5555555555555556,
              "#d8576b"
             ],
             [
              0.6666666666666666,
              "#ed7953"
             ],
             [
              0.7777777777777778,
              "#fb9f3a"
             ],
             [
              0.8888888888888888,
              "#fdca26"
             ],
             [
              1,
              "#f0f921"
             ]
            ],
            "type": "surface"
           }
          ],
          "table": [
           {
            "cells": {
             "fill": {
              "color": "#EBF0F8"
             },
             "line": {
              "color": "white"
             }
            },
            "header": {
             "fill": {
              "color": "#C8D4E3"
             },
             "line": {
              "color": "white"
             }
            },
            "type": "table"
           }
          ]
         },
         "layout": {
          "annotationdefaults": {
           "arrowcolor": "#2a3f5f",
           "arrowhead": 0,
           "arrowwidth": 1
          },
          "autotypenumbers": "strict",
          "coloraxis": {
           "colorbar": {
            "outlinewidth": 0,
            "ticks": ""
           }
          },
          "colorscale": {
           "diverging": [
            [
             0,
             "#8e0152"
            ],
            [
             0.1,
             "#c51b7d"
            ],
            [
             0.2,
             "#de77ae"
            ],
            [
             0.3,
             "#f1b6da"
            ],
            [
             0.4,
             "#fde0ef"
            ],
            [
             0.5,
             "#f7f7f7"
            ],
            [
             0.6,
             "#e6f5d0"
            ],
            [
             0.7,
             "#b8e186"
            ],
            [
             0.8,
             "#7fbc41"
            ],
            [
             0.9,
             "#4d9221"
            ],
            [
             1,
             "#276419"
            ]
           ],
           "sequential": [
            [
             0,
             "#0d0887"
            ],
            [
             0.1111111111111111,
             "#46039f"
            ],
            [
             0.2222222222222222,
             "#7201a8"
            ],
            [
             0.3333333333333333,
             "#9c179e"
            ],
            [
             0.4444444444444444,
             "#bd3786"
            ],
            [
             0.5555555555555556,
             "#d8576b"
            ],
            [
             0.6666666666666666,
             "#ed7953"
            ],
            [
             0.7777777777777778,
             "#fb9f3a"
            ],
            [
             0.8888888888888888,
             "#fdca26"
            ],
            [
             1,
             "#f0f921"
            ]
           ],
           "sequentialminus": [
            [
             0,
             "#0d0887"
            ],
            [
             0.1111111111111111,
             "#46039f"
            ],
            [
             0.2222222222222222,
             "#7201a8"
            ],
            [
             0.3333333333333333,
             "#9c179e"
            ],
            [
             0.4444444444444444,
             "#bd3786"
            ],
            [
             0.5555555555555556,
             "#d8576b"
            ],
            [
             0.6666666666666666,
             "#ed7953"
            ],
            [
             0.7777777777777778,
             "#fb9f3a"
            ],
            [
             0.8888888888888888,
             "#fdca26"
            ],
            [
             1,
             "#f0f921"
            ]
           ]
          },
          "colorway": [
           "#636efa",
           "#EF553B",
           "#00cc96",
           "#ab63fa",
           "#FFA15A",
           "#19d3f3",
           "#FF6692",
           "#B6E880",
           "#FF97FF",
           "#FECB52"
          ],
          "font": {
           "color": "#2a3f5f"
          },
          "geo": {
           "bgcolor": "white",
           "lakecolor": "white",
           "landcolor": "#E5ECF6",
           "showlakes": true,
           "showland": true,
           "subunitcolor": "white"
          },
          "hoverlabel": {
           "align": "left"
          },
          "hovermode": "closest",
          "mapbox": {
           "style": "light"
          },
          "paper_bgcolor": "white",
          "plot_bgcolor": "#E5ECF6",
          "polar": {
           "angularaxis": {
            "gridcolor": "white",
            "linecolor": "white",
            "ticks": ""
           },
           "bgcolor": "#E5ECF6",
           "radialaxis": {
            "gridcolor": "white",
            "linecolor": "white",
            "ticks": ""
           }
          },
          "scene": {
           "xaxis": {
            "backgroundcolor": "#E5ECF6",
            "gridcolor": "white",
            "gridwidth": 2,
            "linecolor": "white",
            "showbackground": true,
            "ticks": "",
            "zerolinecolor": "white"
           },
           "yaxis": {
            "backgroundcolor": "#E5ECF6",
            "gridcolor": "white",
            "gridwidth": 2,
            "linecolor": "white",
            "showbackground": true,
            "ticks": "",
            "zerolinecolor": "white"
           },
           "zaxis": {
            "backgroundcolor": "#E5ECF6",
            "gridcolor": "white",
            "gridwidth": 2,
            "linecolor": "white",
            "showbackground": true,
            "ticks": "",
            "zerolinecolor": "white"
           }
          },
          "shapedefaults": {
           "line": {
            "color": "#2a3f5f"
           }
          },
          "ternary": {
           "aaxis": {
            "gridcolor": "white",
            "linecolor": "white",
            "ticks": ""
           },
           "baxis": {
            "gridcolor": "white",
            "linecolor": "white",
            "ticks": ""
           },
           "bgcolor": "#E5ECF6",
           "caxis": {
            "gridcolor": "white",
            "linecolor": "white",
            "ticks": ""
           }
          },
          "title": {
           "x": 0.05
          },
          "xaxis": {
           "automargin": true,
           "gridcolor": "white",
           "linecolor": "white",
           "ticks": "",
           "title": {
            "standoff": 15
           },
           "zerolinecolor": "white",
           "zerolinewidth": 2
          },
          "yaxis": {
           "automargin": true,
           "gridcolor": "white",
           "linecolor": "white",
           "ticks": "",
           "title": {
            "standoff": 15
           },
           "zerolinecolor": "white",
           "zerolinewidth": 2
          }
         }
        },
        "title": {
         "text": "投标人数与中签率环比变化"
        },
        "xaxis": {
         "anchor": "y",
         "domain": [
          0,
          0.94
         ],
         "title": {
          "text": "时间"
         }
        },
        "yaxis": {
         "anchor": "x",
         "domain": [
          0,
          1
         ],
         "title": {
          "text": "投标人数_MoM"
         }
        },
        "yaxis2": {
         "anchor": "x",
         "overlaying": "y",
         "side": "right",
         "title": {
          "text": "中签率_MoM"
         }
        }
       }
      }
     },
     "metadata": {},
     "output_type": "display_data"
    }
   ],
   "source": [
    "\n",
    "\n",
    "\n",
    "df = df_MoM[df_MoM['y_m']>='2013'].reset_index(drop=True)\n",
    "\n",
    "fig = make_subplots(specs=[[{\"secondary_y\": True}]])\n",
    "\n",
    "# 添加投标人数\n",
    "#fig.add_trace(go.Scatter(x=df['y_m'], y=df['投标人数_MoM'], name='投标人数_MoM',\n",
    "#                         line=dict(color='red'), mode='lines+markers'),\n",
    "#              secondary_y=False)\n",
    "\n",
    "# 最低成交价_MoM\n",
    "fig.add_trace(go.Scatter(x=df['y_m'], y=df['最低成交价_MoM'], name='最低成交价_MoM',\n",
    "                         line=dict(color='red'), mode='lines+markers'),\n",
    "              secondary_y=False)\n",
    "\n",
    "# 添加中签率\n",
    "fig.add_trace(go.Scatter(x=df['y_m'], y=df['中签率_MoM'], name='中签率_MoM',\n",
    "                         line=dict(color='purple'), mode='lines+markers'),\n",
    "              secondary_y=True)\n",
    "\n",
    "fig.update_layout(title_text='投标人数与中签率环比变化')\n",
    "\n",
    "fig.update_xaxes(title_text='时间')\n",
    "\n",
    "fig.update_yaxes(title_text='投标人数_MoM', secondary_y=False)\n",
    "fig.update_yaxes(title_text='中签率_MoM', secondary_y=True)\n",
    "\n",
    "fig.show()\n"
   ]
  },
  {
   "cell_type": "code",
   "execution_count": null,
   "metadata": {},
   "outputs": [],
   "source": []
  },
  {
   "cell_type": "code",
   "execution_count": null,
   "metadata": {},
   "outputs": [],
   "source": []
  },
  {
   "cell_type": "code",
   "execution_count": null,
   "metadata": {},
   "outputs": [],
   "source": []
  },
  {
   "cell_type": "code",
   "execution_count": null,
   "metadata": {},
   "outputs": [],
   "source": []
  },
  {
   "cell_type": "code",
   "execution_count": 10,
   "metadata": {},
   "outputs": [
    {
     "data": {
      "application/vnd.plotly.v1+json": {
       "config": {
        "plotlyServerURL": "https://plot.ly"
       },
       "data": [
        {
         "line": {
          "color": "orange"
         },
         "mode": "lines+markers",
         "name": "seconds_diff",
         "type": "scatter",
         "x": [
          "2024-06",
          "2024-05",
          "2024-04",
          "2024-03",
          "2024-01",
          "2023-11",
          "2023-10",
          "2023-09",
          "2023-08",
          "2023-07",
          "2023-06",
          "2023-05",
          "2023-04",
          "2023-03",
          "2023-02",
          "2023-01",
          "2022-12",
          "2022-11",
          "2022-10",
          "2022-09",
          "2022-08",
          "2022-07",
          "2022-05",
          "2022-04",
          "2022-03",
          "2022-02",
          "2022-01",
          "2021-11",
          "2021-10",
          "2021-09",
          "2021-08",
          "2021-07",
          "2021-06",
          "2021-05",
          "2021-04",
          "2021-03",
          "2021-02",
          "2021-01",
          "2020-12",
          "2020-11",
          "2020-10",
          "2020-09",
          "2020-08",
          "2020-07",
          "2020-06",
          "2020-04",
          "2020-03",
          "2020-02",
          "2020-01",
          "2019-12",
          "2019-11",
          "2019-10",
          "2019-09",
          "2019-08",
          "2019-07",
          "2019-06",
          "2019-05",
          "2019-04",
          "2019-03",
          "2019-02",
          "2019-01",
          "2018-12",
          "2018-11",
          "2018-10",
          "2018-09",
          "2018-08",
          "2018-07",
          "2018-06",
          "2018-05",
          "2018-03",
          "2018-02",
          "2018-01",
          "2017-12",
          "2017-11",
          "2017-10",
          "2017-09",
          "2017-08",
          "2017-07",
          "2017-05",
          "2017-04",
          "2017-03",
          "2017-02",
          "2017-01",
          "2016-12",
          "2016-11",
          "2016-10",
          "2016-09",
          "2016-08",
          "2016-07",
          "2016-06",
          "2016-05",
          "2016-04",
          "2016-03",
          "2016-02",
          "2015-12",
          "2015-11",
          "2015-10",
          "2015-09",
          "2015-08",
          "2015-07",
          "2015-06",
          "2015-05",
          "2014-12",
          "2014-11",
          "2014-10",
          "2014-09",
          "2014-07",
          "2014-01",
          "2013-12",
          "2013-10",
          "2013-09",
          "2013-02",
          "2012-11",
          "2012-09",
          "2012-08",
          "2012-07",
          "2012-04",
          "2012-02",
          "2012-01",
          "2011-12",
          "2011-10",
          "2011-08",
          "2011-07",
          "2011-05",
          "2011-04",
          "2011-01",
          "2010-11",
          "2010-05",
          "2010-04"
         ],
         "y": [
          1,
          2,
          2,
          3,
          3,
          4,
          1,
          2,
          4,
          1,
          2,
          4,
          5,
          2,
          1,
          4,
          3,
          1,
          2,
          4,
          5,
          3,
          3,
          2,
          3,
          5,
          4,
          3,
          3,
          2,
          2,
          2,
          2,
          2,
          4,
          4,
          2,
          2,
          3,
          4,
          4,
          5,
          4,
          2,
          8,
          2,
          2,
          1,
          3,
          1,
          3,
          6,
          1,
          3,
          4,
          3,
          1,
          3,
          2,
          3,
          2,
          3,
          4,
          2,
          3,
          2,
          3,
          3,
          1,
          4,
          1,
          1,
          2,
          1,
          1,
          4,
          1,
          3,
          5,
          1,
          5,
          2,
          3,
          6,
          3,
          1,
          1,
          2,
          3,
          6,
          2,
          1,
          3,
          2,
          3,
          4,
          8,
          2,
          2,
          5,
          1,
          7,
          4,
          10,
          1,
          8,
          1,
          1,
          10,
          4,
          6,
          1,
          8,
          3,
          6,
          7,
          3,
          1,
          5,
          9,
          7,
          4,
          8,
          7,
          7,
          1,
          1,
          9,
          3
         ]
        }
       ],
       "layout": {
        "font": {
         "color": "RebeccaPurple",
         "family": "Arial, sans-serif",
         "size": 12
        },
        "template": {
         "data": {
          "bar": [
           {
            "error_x": {
             "color": "#2a3f5f"
            },
            "error_y": {
             "color": "#2a3f5f"
            },
            "marker": {
             "line": {
              "color": "#E5ECF6",
              "width": 0.5
             },
             "pattern": {
              "fillmode": "overlay",
              "size": 10,
              "solidity": 0.2
             }
            },
            "type": "bar"
           }
          ],
          "barpolar": [
           {
            "marker": {
             "line": {
              "color": "#E5ECF6",
              "width": 0.5
             },
             "pattern": {
              "fillmode": "overlay",
              "size": 10,
              "solidity": 0.2
             }
            },
            "type": "barpolar"
           }
          ],
          "carpet": [
           {
            "aaxis": {
             "endlinecolor": "#2a3f5f",
             "gridcolor": "white",
             "linecolor": "white",
             "minorgridcolor": "white",
             "startlinecolor": "#2a3f5f"
            },
            "baxis": {
             "endlinecolor": "#2a3f5f",
             "gridcolor": "white",
             "linecolor": "white",
             "minorgridcolor": "white",
             "startlinecolor": "#2a3f5f"
            },
            "type": "carpet"
           }
          ],
          "choropleth": [
           {
            "colorbar": {
             "outlinewidth": 0,
             "ticks": ""
            },
            "type": "choropleth"
           }
          ],
          "contour": [
           {
            "colorbar": {
             "outlinewidth": 0,
             "ticks": ""
            },
            "colorscale": [
             [
              0,
              "#0d0887"
             ],
             [
              0.1111111111111111,
              "#46039f"
             ],
             [
              0.2222222222222222,
              "#7201a8"
             ],
             [
              0.3333333333333333,
              "#9c179e"
             ],
             [
              0.4444444444444444,
              "#bd3786"
             ],
             [
              0.5555555555555556,
              "#d8576b"
             ],
             [
              0.6666666666666666,
              "#ed7953"
             ],
             [
              0.7777777777777778,
              "#fb9f3a"
             ],
             [
              0.8888888888888888,
              "#fdca26"
             ],
             [
              1,
              "#f0f921"
             ]
            ],
            "type": "contour"
           }
          ],
          "contourcarpet": [
           {
            "colorbar": {
             "outlinewidth": 0,
             "ticks": ""
            },
            "type": "contourcarpet"
           }
          ],
          "heatmap": [
           {
            "colorbar": {
             "outlinewidth": 0,
             "ticks": ""
            },
            "colorscale": [
             [
              0,
              "#0d0887"
             ],
             [
              0.1111111111111111,
              "#46039f"
             ],
             [
              0.2222222222222222,
              "#7201a8"
             ],
             [
              0.3333333333333333,
              "#9c179e"
             ],
             [
              0.4444444444444444,
              "#bd3786"
             ],
             [
              0.5555555555555556,
              "#d8576b"
             ],
             [
              0.6666666666666666,
              "#ed7953"
             ],
             [
              0.7777777777777778,
              "#fb9f3a"
             ],
             [
              0.8888888888888888,
              "#fdca26"
             ],
             [
              1,
              "#f0f921"
             ]
            ],
            "type": "heatmap"
           }
          ],
          "heatmapgl": [
           {
            "colorbar": {
             "outlinewidth": 0,
             "ticks": ""
            },
            "colorscale": [
             [
              0,
              "#0d0887"
             ],
             [
              0.1111111111111111,
              "#46039f"
             ],
             [
              0.2222222222222222,
              "#7201a8"
             ],
             [
              0.3333333333333333,
              "#9c179e"
             ],
             [
              0.4444444444444444,
              "#bd3786"
             ],
             [
              0.5555555555555556,
              "#d8576b"
             ],
             [
              0.6666666666666666,
              "#ed7953"
             ],
             [
              0.7777777777777778,
              "#fb9f3a"
             ],
             [
              0.8888888888888888,
              "#fdca26"
             ],
             [
              1,
              "#f0f921"
             ]
            ],
            "type": "heatmapgl"
           }
          ],
          "histogram": [
           {
            "marker": {
             "pattern": {
              "fillmode": "overlay",
              "size": 10,
              "solidity": 0.2
             }
            },
            "type": "histogram"
           }
          ],
          "histogram2d": [
           {
            "colorbar": {
             "outlinewidth": 0,
             "ticks": ""
            },
            "colorscale": [
             [
              0,
              "#0d0887"
             ],
             [
              0.1111111111111111,
              "#46039f"
             ],
             [
              0.2222222222222222,
              "#7201a8"
             ],
             [
              0.3333333333333333,
              "#9c179e"
             ],
             [
              0.4444444444444444,
              "#bd3786"
             ],
             [
              0.5555555555555556,
              "#d8576b"
             ],
             [
              0.6666666666666666,
              "#ed7953"
             ],
             [
              0.7777777777777778,
              "#fb9f3a"
             ],
             [
              0.8888888888888888,
              "#fdca26"
             ],
             [
              1,
              "#f0f921"
             ]
            ],
            "type": "histogram2d"
           }
          ],
          "histogram2dcontour": [
           {
            "colorbar": {
             "outlinewidth": 0,
             "ticks": ""
            },
            "colorscale": [
             [
              0,
              "#0d0887"
             ],
             [
              0.1111111111111111,
              "#46039f"
             ],
             [
              0.2222222222222222,
              "#7201a8"
             ],
             [
              0.3333333333333333,
              "#9c179e"
             ],
             [
              0.4444444444444444,
              "#bd3786"
             ],
             [
              0.5555555555555556,
              "#d8576b"
             ],
             [
              0.6666666666666666,
              "#ed7953"
             ],
             [
              0.7777777777777778,
              "#fb9f3a"
             ],
             [
              0.8888888888888888,
              "#fdca26"
             ],
             [
              1,
              "#f0f921"
             ]
            ],
            "type": "histogram2dcontour"
           }
          ],
          "mesh3d": [
           {
            "colorbar": {
             "outlinewidth": 0,
             "ticks": ""
            },
            "type": "mesh3d"
           }
          ],
          "parcoords": [
           {
            "line": {
             "colorbar": {
              "outlinewidth": 0,
              "ticks": ""
             }
            },
            "type": "parcoords"
           }
          ],
          "pie": [
           {
            "automargin": true,
            "type": "pie"
           }
          ],
          "scatter": [
           {
            "fillpattern": {
             "fillmode": "overlay",
             "size": 10,
             "solidity": 0.2
            },
            "type": "scatter"
           }
          ],
          "scatter3d": [
           {
            "line": {
             "colorbar": {
              "outlinewidth": 0,
              "ticks": ""
             }
            },
            "marker": {
             "colorbar": {
              "outlinewidth": 0,
              "ticks": ""
             }
            },
            "type": "scatter3d"
           }
          ],
          "scattercarpet": [
           {
            "marker": {
             "colorbar": {
              "outlinewidth": 0,
              "ticks": ""
             }
            },
            "type": "scattercarpet"
           }
          ],
          "scattergeo": [
           {
            "marker": {
             "colorbar": {
              "outlinewidth": 0,
              "ticks": ""
             }
            },
            "type": "scattergeo"
           }
          ],
          "scattergl": [
           {
            "marker": {
             "colorbar": {
              "outlinewidth": 0,
              "ticks": ""
             }
            },
            "type": "scattergl"
           }
          ],
          "scattermapbox": [
           {
            "marker": {
             "colorbar": {
              "outlinewidth": 0,
              "ticks": ""
             }
            },
            "type": "scattermapbox"
           }
          ],
          "scatterpolar": [
           {
            "marker": {
             "colorbar": {
              "outlinewidth": 0,
              "ticks": ""
             }
            },
            "type": "scatterpolar"
           }
          ],
          "scatterpolargl": [
           {
            "marker": {
             "colorbar": {
              "outlinewidth": 0,
              "ticks": ""
             }
            },
            "type": "scatterpolargl"
           }
          ],
          "scatterternary": [
           {
            "marker": {
             "colorbar": {
              "outlinewidth": 0,
              "ticks": ""
             }
            },
            "type": "scatterternary"
           }
          ],
          "surface": [
           {
            "colorbar": {
             "outlinewidth": 0,
             "ticks": ""
            },
            "colorscale": [
             [
              0,
              "#0d0887"
             ],
             [
              0.1111111111111111,
              "#46039f"
             ],
             [
              0.2222222222222222,
              "#7201a8"
             ],
             [
              0.3333333333333333,
              "#9c179e"
             ],
             [
              0.4444444444444444,
              "#bd3786"
             ],
             [
              0.5555555555555556,
              "#d8576b"
             ],
             [
              0.6666666666666666,
              "#ed7953"
             ],
             [
              0.7777777777777778,
              "#fb9f3a"
             ],
             [
              0.8888888888888888,
              "#fdca26"
             ],
             [
              1,
              "#f0f921"
             ]
            ],
            "type": "surface"
           }
          ],
          "table": [
           {
            "cells": {
             "fill": {
              "color": "#EBF0F8"
             },
             "line": {
              "color": "white"
             }
            },
            "header": {
             "fill": {
              "color": "#C8D4E3"
             },
             "line": {
              "color": "white"
             }
            },
            "type": "table"
           }
          ]
         },
         "layout": {
          "annotationdefaults": {
           "arrowcolor": "#2a3f5f",
           "arrowhead": 0,
           "arrowwidth": 1
          },
          "autotypenumbers": "strict",
          "coloraxis": {
           "colorbar": {
            "outlinewidth": 0,
            "ticks": ""
           }
          },
          "colorscale": {
           "diverging": [
            [
             0,
             "#8e0152"
            ],
            [
             0.1,
             "#c51b7d"
            ],
            [
             0.2,
             "#de77ae"
            ],
            [
             0.3,
             "#f1b6da"
            ],
            [
             0.4,
             "#fde0ef"
            ],
            [
             0.5,
             "#f7f7f7"
            ],
            [
             0.6,
             "#e6f5d0"
            ],
            [
             0.7,
             "#b8e186"
            ],
            [
             0.8,
             "#7fbc41"
            ],
            [
             0.9,
             "#4d9221"
            ],
            [
             1,
             "#276419"
            ]
           ],
           "sequential": [
            [
             0,
             "#0d0887"
            ],
            [
             0.1111111111111111,
             "#46039f"
            ],
            [
             0.2222222222222222,
             "#7201a8"
            ],
            [
             0.3333333333333333,
             "#9c179e"
            ],
            [
             0.4444444444444444,
             "#bd3786"
            ],
            [
             0.5555555555555556,
             "#d8576b"
            ],
            [
             0.6666666666666666,
             "#ed7953"
            ],
            [
             0.7777777777777778,
             "#fb9f3a"
            ],
            [
             0.8888888888888888,
             "#fdca26"
            ],
            [
             1,
             "#f0f921"
            ]
           ],
           "sequentialminus": [
            [
             0,
             "#0d0887"
            ],
            [
             0.1111111111111111,
             "#46039f"
            ],
            [
             0.2222222222222222,
             "#7201a8"
            ],
            [
             0.3333333333333333,
             "#9c179e"
            ],
            [
             0.4444444444444444,
             "#bd3786"
            ],
            [
             0.5555555555555556,
             "#d8576b"
            ],
            [
             0.6666666666666666,
             "#ed7953"
            ],
            [
             0.7777777777777778,
             "#fb9f3a"
            ],
            [
             0.8888888888888888,
             "#fdca26"
            ],
            [
             1,
             "#f0f921"
            ]
           ]
          },
          "colorway": [
           "#636efa",
           "#EF553B",
           "#00cc96",
           "#ab63fa",
           "#FFA15A",
           "#19d3f3",
           "#FF6692",
           "#B6E880",
           "#FF97FF",
           "#FECB52"
          ],
          "font": {
           "color": "#2a3f5f"
          },
          "geo": {
           "bgcolor": "white",
           "lakecolor": "white",
           "landcolor": "#E5ECF6",
           "showlakes": true,
           "showland": true,
           "subunitcolor": "white"
          },
          "hoverlabel": {
           "align": "left"
          },
          "hovermode": "closest",
          "mapbox": {
           "style": "light"
          },
          "paper_bgcolor": "white",
          "plot_bgcolor": "#E5ECF6",
          "polar": {
           "angularaxis": {
            "gridcolor": "white",
            "linecolor": "white",
            "ticks": ""
           },
           "bgcolor": "#E5ECF6",
           "radialaxis": {
            "gridcolor": "white",
            "linecolor": "white",
            "ticks": ""
           }
          },
          "scene": {
           "xaxis": {
            "backgroundcolor": "#E5ECF6",
            "gridcolor": "white",
            "gridwidth": 2,
            "linecolor": "white",
            "showbackground": true,
            "ticks": "",
            "zerolinecolor": "white"
           },
           "yaxis": {
            "backgroundcolor": "#E5ECF6",
            "gridcolor": "white",
            "gridwidth": 2,
            "linecolor": "white",
            "showbackground": true,
            "ticks": "",
            "zerolinecolor": "white"
           },
           "zaxis": {
            "backgroundcolor": "#E5ECF6",
            "gridcolor": "white",
            "gridwidth": 2,
            "linecolor": "white",
            "showbackground": true,
            "ticks": "",
            "zerolinecolor": "white"
           }
          },
          "shapedefaults": {
           "line": {
            "color": "#2a3f5f"
           }
          },
          "ternary": {
           "aaxis": {
            "gridcolor": "white",
            "linecolor": "white",
            "ticks": ""
           },
           "baxis": {
            "gridcolor": "white",
            "linecolor": "white",
            "ticks": ""
           },
           "bgcolor": "#E5ECF6",
           "caxis": {
            "gridcolor": "white",
            "linecolor": "white",
            "ticks": ""
           }
          },
          "title": {
           "x": 0.05
          },
          "xaxis": {
           "automargin": true,
           "gridcolor": "white",
           "linecolor": "white",
           "ticks": "",
           "title": {
            "standoff": 15
           },
           "zerolinecolor": "white",
           "zerolinewidth": 2
          },
          "yaxis": {
           "automargin": true,
           "gridcolor": "white",
           "linecolor": "white",
           "ticks": "",
           "title": {
            "standoff": 15
           },
           "zerolinecolor": "white",
           "zerolinewidth": 2
          }
         }
        },
        "title": {
         "text": "Seconds_diff 变化趋势（限制在10秒内）"
        },
        "xaxis": {
         "title": {
          "text": "时间"
         }
        },
        "yaxis": {
         "title": {
          "text": "Seconds Difference"
         }
        }
       }
      }
     },
     "metadata": {},
     "output_type": "display_data"
    }
   ],
   "source": [
    "import plotly.graph_objects as go\n",
    "\n",
    "# 筛选 seconds_diff 小于或等于 10 的行\n",
    "filtered_df = df[df['seconds_diff'] <= 10]\n",
    "\n",
    "fig = go.Figure()\n",
    "\n",
    "# 使用筛选后的 DataFrame 绘制 seconds_diff\n",
    "fig.add_trace(go.Scatter(x=filtered_df['y_m'], y=filtered_df['seconds_diff'], name='seconds_diff',\n",
    "                         line=dict(color='orange'), mode='lines+markers'))\n",
    "\n",
    "fig.update_layout(title='Seconds_diff 变化趋势（限制在10秒内）',\n",
    "                  xaxis_title='时间',\n",
    "                  yaxis_title='Seconds Difference',\n",
    "                  font=dict(family=\"Arial, sans-serif\", size=12, color=\"RebeccaPurple\"))\n",
    "\n",
    "fig.show()\n"
   ]
  },
  {
   "cell_type": "code",
   "execution_count": null,
   "metadata": {},
   "outputs": [],
   "source": []
  }
 ],
 "metadata": {
  "kernelspec": {
   "display_name": "base",
   "language": "python",
   "name": "python3"
  },
  "language_info": {
   "codemirror_mode": {
    "name": "ipython",
    "version": 3
   },
   "file_extension": ".py",
   "mimetype": "text/x-python",
   "name": "python",
   "nbconvert_exporter": "python",
   "pygments_lexer": "ipython3",
   "version": "3.11.5"
  }
 },
 "nbformat": 4,
 "nbformat_minor": 2
}
